{
 "cells": [
  {
   "cell_type": "markdown",
   "metadata": {},
   "source": [
    "## Final Project Submission\n",
    "\n",
    "Please fill out:\n",
    "* Student name: \n",
    "* Student pace: self paced / part time / full time\n",
    "* Scheduled project review date/time: \n",
    "* Instructor name: \n",
    "* Blog post URL:\n"
   ]
  },
  {
   "cell_type": "code",
   "execution_count": 1,
   "metadata": {},
   "outputs": [],
   "source": [
    "# Your code here - remember to use markdown cells for comments as well!\n",
    "import pandas as pd\n",
    "import urllib.request, urllib.parse, urllib.error\n",
    "import requests\n",
    "import json"
   ]
  },
  {
   "cell_type": "code",
   "execution_count": 2,
   "metadata": {},
   "outputs": [],
   "source": [
    "API_key = '294f4c0e6d0861470f47e84017c8e2c1'"
   ]
  },
  {
   "cell_type": "code",
   "execution_count": 7,
   "metadata": {},
   "outputs": [],
   "source": [
    "#The first API request is to obtain a list of movies by the released_date\n",
    "\n",
    "def API_search(year,vote_count):\n",
    "    #This request pulls the first page of the search request\n",
    "    resp = requests.get('https://api.themoviedb.org/3/discover/movie?api_key=' + str(API_key) +'&language=en-US&vote_count.gte='+str(vote_count)+'&primary_release_year='+ str(year))\n",
    "    data_p1 = dict(resp.json())\n",
    "\n",
    "    #We can also use this request to see how many pages there are in the search, \n",
    "    #we will need to add all the pages of the search to the dataframe\n",
    "    search_pages = data_p1['total_pages']\n",
    "    data = pd.DataFrame.from_dict(data_p1['results'])\n",
    "    url = 'https://api.themoviedb.org/3/discover/movie?api_key=' + str(API_key) +'&language=en-US&vote_count.gte='+str(vote_count)+'&primary_release_year='+ str(year)+'&page='\n",
    "    for page in range(2,search_pages+1):\n",
    "        resp = requests.get(url + str(page))\n",
    "        temp = dict(resp.json())\n",
    "        df_by_page = pd.DataFrame.from_dict(temp['results'])\n",
    "        data = pd.concat([data,df_by_page], ignore_index=True)\n",
    "\n",
    "    data = data.set_index('id')\n",
    "    # Create a list of all the movies from the search above. Which is in decending popularity order.\n",
    "    return data.index.values.tolist()\n"
   ]
  },
  {
   "cell_type": "code",
   "execution_count": 8,
   "metadata": {},
   "outputs": [
    {
     "data": {
      "text/plain": [
       "1189"
      ]
     },
     "execution_count": 8,
     "metadata": {},
     "output_type": "execute_result"
    }
   ],
   "source": [
    "movies_index = []\n",
    "\n",
    "vote_count = 1000\n",
    "search_years = list(range(2010,2020))\n",
    "\n",
    "for year in search_years:\n",
    "    movies_index = movies_index + API_search(year,vote_count)\n",
    "    \n",
    "len(movies_index)"
   ]
  },
  {
   "cell_type": "code",
   "execution_count": 6,
   "metadata": {},
   "outputs": [
    {
     "data": {
      "text/plain": [
       "Text(0.5, 1.0, 'Distribution of Vote Counts')"
      ]
     },
     "execution_count": 6,
     "metadata": {},
     "output_type": "execute_result"
    },
    {
     "data": {
      "image/png": "[encoded data removed]",
      "text/plain": [
       "<Figure size 720x504 with 1 Axes>"
      ]
     },
     "metadata": {
      "needs_background": "light"
     },
     "output_type": "display_data"
    }
   ],
   "source": [
    "# import matplotlib.pyplot as plt\n",
    "# %matplotlib inline\n",
    "\n",
    "# fig, ax = plt.subplots(figsize=(10, 7))\n",
    "# ax.hist(data['vote_count'], bins=50)\n",
    "# ax.set_title('Distribution of Vote Counts')\n",
    "# ax.set_xlabel('Sale Price')\n",
    "# ax.set_ylabel('Number of houses')\n",
    "# ax.axvline(df['vote_count'].mean(), color='black');"
   ]
  },
  {
   "cell_type": "code",
   "execution_count": 35,
   "metadata": {},
   "outputs": [],
   "source": [
    "#Here is an example of the API request data.  \n",
    "#If we want to change our dataframes, to target more data, it would be easy to add in the function in an upcoming step\n",
    "resp = requests.get('https://api.themoviedb.org/3/movie/' + str(movies_index[0]) + '?api_key=' + str(API_key))\n",
    "# dict(resp.json())"
   ]
  },
  {
   "cell_type": "code",
   "execution_count": 9,
   "metadata": {},
   "outputs": [],
   "source": [
    "#Defines a function to then arrange the data into a dictionary for a given movie.  \n",
    "\n",
    "def API_request(movie):\n",
    "    resp = requests.get('https://api.themoviedb.org/3/movie/' + str(movie) + '?api_key=' + str(API_key))\n",
    "    if resp.status_code == requests.codes.ok:\n",
    "        temp = dict(resp.json())\n",
    "        movie = {}\n",
    "        movie['imdb_id'] = temp['imdb_id']\n",
    "        movie['release_date'] = pd.to_datetime(temp['release_date'])\n",
    "        movie['genres'] = [genre['name'] for genre in temp['genres']]\n",
    "        movie['title'] = temp['title']\n",
    "        movie['budget'] = int(temp['budget'])\n",
    "        movie['revenue'] = int(temp['revenue'])\n",
    "        #movie['ROI'] =  (int(temp['revenue']) - int(temp['budget']))\n",
    "        movie['runtime_mins'] = temp['runtime']\n",
    "        movie['vote_average'] = temp['vote_average']        \n",
    "        movie['vote_count'] = temp['vote_count']        \n",
    "        return movie"
   ]
  },
  {
   "cell_type": "code",
   "execution_count": 37,
   "metadata": {},
   "outputs": [
    {
     "name": "stdout",
     "output_type": "stream",
     "text": [
      "{'imdb_id': 'tt1375666', 'release_date': Timestamp('2010-07-15 00:00:00'), 'genres': ['Action', 'Science Fiction', 'Adventure'], 'title': 'Inception', 'budget': 160000000, 'revenue': 825532764, 'runtime_mins': 148, 'vote_average': 8.3, 'vote_count': 26442}\n"
     ]
    }
   ],
   "source": [
    "#See an example of what the API_request provides per movie\n",
    "print(API_request(movies_index[0]))"
   ]
  },
  {
   "cell_type": "code",
   "execution_count": 10,
   "metadata": {},
   "outputs": [],
   "source": [
    "## Execution time varies on how large our subset is ##\n",
    "\n",
    "#Define how many of the top most popular movies we would like to use in our dataset:\n",
    "# subset_lenght = 500\n",
    "\n",
    "#Shrinks the movies_index which is arranged from most popular to least popular, \n",
    "#and calls the first \"subset_lenght\" amount.\n",
    "# imdb_ID_subset = movies_index[:subset_lenght]\n",
    "imdb_ID_subset = movies_index\n",
    "\n",
    "#Make requests to the API for the movie data\n",
    "imbd_API_data = list(map(lambda x: API_request(x),imdb_ID_subset))"
   ]
  },
  {
   "cell_type": "code",
   "execution_count": 11,
   "metadata": {},
   "outputs": [],
   "source": [
    "#Create a dataframe of the data obtained\n",
    "df = pd.DataFrame.from_dict(imbd_API_data)\n"
   ]
  },
  {
   "cell_type": "code",
   "execution_count": 12,
   "metadata": {},
   "outputs": [
    {
     "name": "stdout",
     "output_type": "stream",
     "text": [
      "<class 'pandas.core.frame.DataFrame'>\n",
      "RangeIndex: 1189 entries, 0 to 1188\n",
      "Data columns (total 9 columns):\n",
      " #   Column        Non-Null Count  Dtype         \n",
      "---  ------        --------------  -----         \n",
      " 0   imdb_id       1189 non-null   object        \n",
      " 1   release_date  1189 non-null   datetime64[ns]\n",
      " 2   genres        1189 non-null   object        \n",
      " 3   title         1189 non-null   object        \n",
      " 4   budget        1189 non-null   int64         \n",
      " 5   revenue       1189 non-null   int64         \n",
      " 6   runtime_mins  1189 non-null   int64         \n",
      " 7   vote_average  1189 non-null   float64       \n",
      " 8   vote_count    1189 non-null   int64         \n",
      "dtypes: datetime64[ns](1), float64(1), int64(4), object(3)\n",
      "memory usage: 83.7+ KB\n"
     ]
    }
   ],
   "source": [
    "df.info()"
   ]
  },
  {
   "cell_type": "code",
   "execution_count": 13,
   "metadata": {},
   "outputs": [
    {
     "data": {
      "text/html": [
       "<div>\n",
       "<style scoped>\n",
       "    .dataframe tbody tr th:only-of-type {\n",
       "        vertical-align: middle;\n",
       "    }\n",
       "\n",
       "    .dataframe tbody tr th {\n",
       "        vertical-align: top;\n",
       "    }\n",
       "\n",
       "    .dataframe thead th {\n",
       "        text-align: right;\n",
       "    }\n",
       "</style>\n",
       "<table border=\"1\" class=\"dataframe\">\n",
       "  <thead>\n",
       "    <tr style=\"text-align: right;\">\n",
       "      <th></th>\n",
       "      <th>release_date</th>\n",
       "      <th>title</th>\n",
       "      <th>budget</th>\n",
       "      <th>revenue</th>\n",
       "      <th>runtime_mins</th>\n",
       "      <th>vote_average</th>\n",
       "      <th>vote_count</th>\n",
       "      <th>genre</th>\n",
       "    </tr>\n",
       "    <tr>\n",
       "      <th>imdb_id</th>\n",
       "      <th></th>\n",
       "      <th></th>\n",
       "      <th></th>\n",
       "      <th></th>\n",
       "      <th></th>\n",
       "      <th></th>\n",
       "      <th></th>\n",
       "      <th></th>\n",
       "    </tr>\n",
       "  </thead>\n",
       "  <tbody>\n",
       "    <tr>\n",
       "      <th>tt1375666</th>\n",
       "      <td>2010-07-15</td>\n",
       "      <td>Inception</td>\n",
       "      <td>160000000</td>\n",
       "      <td>825532764</td>\n",
       "      <td>148</td>\n",
       "      <td>8.3</td>\n",
       "      <td>26442</td>\n",
       "      <td>Action</td>\n",
       "    </tr>\n",
       "    <tr>\n",
       "      <th>tt1375666</th>\n",
       "      <td>2010-07-15</td>\n",
       "      <td>Inception</td>\n",
       "      <td>160000000</td>\n",
       "      <td>825532764</td>\n",
       "      <td>148</td>\n",
       "      <td>8.3</td>\n",
       "      <td>26442</td>\n",
       "      <td>Science Fiction</td>\n",
       "    </tr>\n",
       "    <tr>\n",
       "      <th>tt1375666</th>\n",
       "      <td>2010-07-15</td>\n",
       "      <td>Inception</td>\n",
       "      <td>160000000</td>\n",
       "      <td>825532764</td>\n",
       "      <td>148</td>\n",
       "      <td>8.3</td>\n",
       "      <td>26442</td>\n",
       "      <td>Adventure</td>\n",
       "    </tr>\n",
       "    <tr>\n",
       "      <th>tt0814255</th>\n",
       "      <td>2010-02-01</td>\n",
       "      <td>Percy Jackson &amp; the Olympians: The Lightning T...</td>\n",
       "      <td>95000000</td>\n",
       "      <td>226497209</td>\n",
       "      <td>119</td>\n",
       "      <td>6.2</td>\n",
       "      <td>5237</td>\n",
       "      <td>Adventure</td>\n",
       "    </tr>\n",
       "    <tr>\n",
       "      <th>tt0814255</th>\n",
       "      <td>2010-02-01</td>\n",
       "      <td>Percy Jackson &amp; the Olympians: The Lightning T...</td>\n",
       "      <td>95000000</td>\n",
       "      <td>226497209</td>\n",
       "      <td>119</td>\n",
       "      <td>6.2</td>\n",
       "      <td>5237</td>\n",
       "      <td>Fantasy</td>\n",
       "    </tr>\n",
       "    <tr>\n",
       "      <th>...</th>\n",
       "      <td>...</td>\n",
       "      <td>...</td>\n",
       "      <td>...</td>\n",
       "      <td>...</td>\n",
       "      <td>...</td>\n",
       "      <td>...</td>\n",
       "      <td>...</td>\n",
       "      <td>...</td>\n",
       "    </tr>\n",
       "    <tr>\n",
       "      <th>tt9252508</th>\n",
       "      <td>2019-09-13</td>\n",
       "      <td>Tall Girl</td>\n",
       "      <td>0</td>\n",
       "      <td>0</td>\n",
       "      <td>101</td>\n",
       "      <td>6.2</td>\n",
       "      <td>1031</td>\n",
       "      <td>Comedy</td>\n",
       "    </tr>\n",
       "    <tr>\n",
       "      <th>tt9252508</th>\n",
       "      <td>2019-09-13</td>\n",
       "      <td>Tall Girl</td>\n",
       "      <td>0</td>\n",
       "      <td>0</td>\n",
       "      <td>101</td>\n",
       "      <td>6.2</td>\n",
       "      <td>1031</td>\n",
       "      <td>Drama</td>\n",
       "    </tr>\n",
       "    <tr>\n",
       "      <th>tt9252508</th>\n",
       "      <td>2019-09-13</td>\n",
       "      <td>Tall Girl</td>\n",
       "      <td>0</td>\n",
       "      <td>0</td>\n",
       "      <td>101</td>\n",
       "      <td>6.2</td>\n",
       "      <td>1031</td>\n",
       "      <td>Romance</td>\n",
       "    </tr>\n",
       "    <tr>\n",
       "      <th>tt7139936</th>\n",
       "      <td>2019-07-26</td>\n",
       "      <td>A Rainy Day in New York</td>\n",
       "      <td>0</td>\n",
       "      <td>0</td>\n",
       "      <td>92</td>\n",
       "      <td>6.5</td>\n",
       "      <td>1118</td>\n",
       "      <td>Comedy</td>\n",
       "    </tr>\n",
       "    <tr>\n",
       "      <th>tt7139936</th>\n",
       "      <td>2019-07-26</td>\n",
       "      <td>A Rainy Day in New York</td>\n",
       "      <td>0</td>\n",
       "      <td>0</td>\n",
       "      <td>92</td>\n",
       "      <td>6.5</td>\n",
       "      <td>1118</td>\n",
       "      <td>Romance</td>\n",
       "    </tr>\n",
       "  </tbody>\n",
       "</table>\n",
       "<p>3282 rows × 8 columns</p>\n",
       "</div>"
      ],
      "text/plain": [
       "          release_date                                              title  \\\n",
       "imdb_id                                                                     \n",
       "tt1375666   2010-07-15                                          Inception   \n",
       "tt1375666   2010-07-15                                          Inception   \n",
       "tt1375666   2010-07-15                                          Inception   \n",
       "tt0814255   2010-02-01  Percy Jackson & the Olympians: The Lightning T...   \n",
       "tt0814255   2010-02-01  Percy Jackson & the Olympians: The Lightning T...   \n",
       "...                ...                                                ...   \n",
       "tt9252508   2019-09-13                                          Tall Girl   \n",
       "tt9252508   2019-09-13                                          Tall Girl   \n",
       "tt9252508   2019-09-13                                          Tall Girl   \n",
       "tt7139936   2019-07-26                            A Rainy Day in New York   \n",
       "tt7139936   2019-07-26                            A Rainy Day in New York   \n",
       "\n",
       "              budget    revenue  runtime_mins  vote_average  vote_count  \\\n",
       "imdb_id                                                                   \n",
       "tt1375666  160000000  825532764           148           8.3       26442   \n",
       "tt1375666  160000000  825532764           148           8.3       26442   \n",
       "tt1375666  160000000  825532764           148           8.3       26442   \n",
       "tt0814255   95000000  226497209           119           6.2        5237   \n",
       "tt0814255   95000000  226497209           119           6.2        5237   \n",
       "...              ...        ...           ...           ...         ...   \n",
       "tt9252508          0          0           101           6.2        1031   \n",
       "tt9252508          0          0           101           6.2        1031   \n",
       "tt9252508          0          0           101           6.2        1031   \n",
       "tt7139936          0          0            92           6.5        1118   \n",
       "tt7139936          0          0            92           6.5        1118   \n",
       "\n",
       "                     genre  \n",
       "imdb_id                     \n",
       "tt1375666           Action  \n",
       "tt1375666  Science Fiction  \n",
       "tt1375666        Adventure  \n",
       "tt0814255        Adventure  \n",
       "tt0814255          Fantasy  \n",
       "...                    ...  \n",
       "tt9252508           Comedy  \n",
       "tt9252508            Drama  \n",
       "tt9252508          Romance  \n",
       "tt7139936           Comedy  \n",
       "tt7139936          Romance  \n",
       "\n",
       "[3282 rows x 8 columns]"
      ]
     },
     "execution_count": 13,
     "metadata": {},
     "output_type": "execute_result"
    }
   ],
   "source": [
    "#Split the genres column into individual rows and set the index to \"imbd_id\"\n",
    "s = df.apply(lambda x: pd.Series(x['genres']),axis=1).stack().reset_index(level=1, drop=True)\n",
    "s.name = 'genre'\n",
    "cleaned_df = df.drop('genres',axis=1).join(s).set_index('imdb_id')\n",
    "cleaned_df.to_csv('2010-2019.csv')\n",
    "\n",
    "cleaned_df"
   ]
  },
  {
   "cell_type": "code",
   "execution_count": 15,
   "metadata": {},
   "outputs": [
    {
     "name": "stdout",
     "output_type": "stream",
     "text": [
      "<class 'pandas.core.frame.DataFrame'>\n",
      "Index: 56 entries, tt3794354 to tt0983946\n",
      "Data columns (total 8 columns):\n",
      " #   Column        Non-Null Count  Dtype         \n",
      "---  ------        --------------  -----         \n",
      " 0   release_date  56 non-null     datetime64[ns]\n",
      " 1   title         56 non-null     object        \n",
      " 2   budget        56 non-null     int64         \n",
      " 3   revenue       56 non-null     int64         \n",
      " 4   runtime_mins  56 non-null     int64         \n",
      " 5   vote_average  56 non-null     float64       \n",
      " 6   vote_count    56 non-null     int64         \n",
      " 7   genre         56 non-null     object        \n",
      "dtypes: datetime64[ns](1), float64(1), int64(4), object(2)\n",
      "memory usage: 3.9+ KB\n"
     ]
    }
   ],
   "source": [
    "cleaned_df.info()"
   ]
  },
  {
   "cell_type": "code",
   "execution_count": null,
   "metadata": {},
   "outputs": [],
   "source": []
  }
 ],
 "metadata": {
  "kernelspec": {
   "display_name": "learn-env",
   "language": "python",
   "name": "learn-env"
  },
  "language_info": {
   "codemirror_mode": {
    "name": "ipython",
    "version": 3
   },
   "file_extension": ".py",
   "mimetype": "text/x-python",
   "name": "python",
   "nbconvert_exporter": "python",
   "pygments_lexer": "ipython3",
   "version": "3.7.6"
  }
 },
 "nbformat": 4,
 "nbformat_minor": 2
}
