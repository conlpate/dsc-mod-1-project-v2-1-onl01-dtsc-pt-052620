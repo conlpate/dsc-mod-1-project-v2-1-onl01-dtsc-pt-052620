{
 "cells": [
  {
   "cell_type": "markdown",
   "metadata": {},
   "source": [
    "## Final Project Submission\n",
    "\n",
    "Please fill out:\n",
    "* Student name: \n",
    "* Student pace: self paced / part time / full time\n",
    "* Scheduled project review date/time: \n",
    "* Instructor name: \n",
    "* Blog post URL:\n"
   ]
  },
  {
   "cell_type": "code",
   "execution_count": 1,
   "metadata": {},
   "outputs": [],
   "source": [
    "# Your code here - remember to use markdown cells for comments as well!\n",
    "import pandas as pd\n",
    "import urllib.request, urllib.parse, urllib.error\n",
    "import requests\n",
    "import json"
   ]
  },
  {
   "cell_type": "code",
   "execution_count": 2,
   "metadata": {},
   "outputs": [],
   "source": [
    "API_key = '294f4c0e6d0861470f47e84017c8e2c1'"
   ]
  },
  {
   "cell_type": "code",
   "execution_count": 3,
   "metadata": {},
   "outputs": [],
   "source": [
    "#The first API request is to obtain a list of movies by the released_date\n",
    "\n",
    "def API_search(year,vote_count):\n",
    "    #This request pulls the first page of the search request\n",
    "    resp = requests.get('https://api.themoviedb.org/3/discover/movie?api_key=' + str(API_key) +'&language=en-US&vote_count.gte='+str(vote_count)+'&primary_release_year='+ str(year))\n",
    "    data_p1 = dict(resp.json())\n",
    "\n",
    "    #We can also use this request to see how many pages there are in the search, \n",
    "    #we will need to add all the pages of the search to the dataframe\n",
    "    search_pages = data_p1['total_pages']\n",
    "    data = pd.DataFrame.from_dict(data_p1['results'])\n",
    "    url = 'https://api.themoviedb.org/3/discover/movie?api_key=' + str(API_key) +'&language=en-US&vote_count.gte='+str(vote_count)+'&primary_release_year='+ str(year)+'&page='\n",
    "    for page in range(2,search_pages+1):\n",
    "        resp = requests.get(url + str(page))\n",
    "        temp = dict(resp.json())\n",
    "        df_by_page = pd.DataFrame.from_dict(temp['results'])\n",
    "        data = pd.concat([data,df_by_page], ignore_index=True)\n",
    "\n",
    "    data = data.set_index('id')\n",
    "    # Create a list of all the movies from the search above. Which is in decending popularity order.\n",
    "    return data.index.values.tolist()\n"
   ]
  },
  {
   "cell_type": "code",
   "execution_count": 4,
   "metadata": {},
   "outputs": [
    {
     "data": {
      "text/plain": [
       "1190"
      ]
     },
     "execution_count": 4,
     "metadata": {},
     "output_type": "execute_result"
    }
   ],
   "source": [
    "movies_index = []\n",
    "\n",
    "vote_count = 1000\n",
    "search_years = list(range(2010,2020))\n",
    "\n",
    "for year in search_years:\n",
    "    movies_index = movies_index + API_search(year,vote_count)\n",
    "    \n",
    "len(movies_index)"
   ]
  },
  {
   "cell_type": "code",
   "execution_count": 5,
   "metadata": {},
   "outputs": [],
   "source": [
    "# import matplotlib.pyplot as plt\n",
    "# %matplotlib inline\n",
    "\n",
    "# fig, ax = plt.subplots(figsize=(10, 7))\n",
    "# ax.hist(data['vote_count'], bins=50)\n",
    "# ax.set_title('Distribution of Vote Counts')\n",
    "# ax.set_xlabel('Sale Price')\n",
    "# ax.set_ylabel('Number of houses')\n",
    "# ax.axvline(df['vote_count'].mean(), color='black');"
   ]
  },
  {
   "cell_type": "code",
   "execution_count": 6,
   "metadata": {},
   "outputs": [],
   "source": [
    "#Here is an example of the API request data.  \n",
    "#If we want to change our dataframes, to target more data, it would be easy to add in the function in an upcoming step\n",
    "resp = requests.get('https://api.themoviedb.org/3/movie/' + str(movies_index[0]) + '?api_key=' + str(API_key))\n",
    "# dict(resp.json())"
   ]
  },
  {
   "cell_type": "code",
   "execution_count": 7,
   "metadata": {},
   "outputs": [],
   "source": [
    "#Defines a function to then arrange the data into a dictionary for a given movie.  \n",
    "\n",
    "def API_request(movie):\n",
    "    resp = requests.get('https://api.themoviedb.org/3/movie/' + str(movie) + '?api_key=' + str(API_key))\n",
    "    if resp.status_code == requests.codes.ok:\n",
    "        temp = dict(resp.json())\n",
    "        movie = {}\n",
    "        movie['imdb_id'] = temp['imdb_id']\n",
    "        movie['release_date'] = pd.to_datetime(temp['release_date'])\n",
    "        movie['genres'] = [genre['name'] for genre in temp['genres']]\n",
    "        movie['title'] = temp['title']\n",
    "        movie['budget'] = int(temp['budget'])\n",
    "        movie['revenue'] = int(temp['revenue'])\n",
    "        #movie['ROI'] =  (int(temp['revenue']) - int(temp['budget']))\n",
    "        movie['runtime_mins'] = temp['runtime']\n",
    "        movie['vote_average'] = temp['vote_average']        \n",
    "        movie['vote_count'] = temp['vote_count']        \n",
    "        return movie"
   ]
  },
  {
   "cell_type": "code",
   "execution_count": 8,
   "metadata": {},
   "outputs": [
    {
     "name": "stdout",
     "output_type": "stream",
     "text": [
      "{'imdb_id': 'tt1375666', 'release_date': Timestamp('2010-07-15 00:00:00'), 'genres': ['Action', 'Science Fiction', 'Adventure'], 'title': 'Inception', 'budget': 160000000, 'revenue': 825532764, 'runtime_mins': 148, 'vote_average': 8.3, 'vote_count': 26451}\n"
     ]
    }
   ],
   "source": [
    "#See an example of what the API_request provides per movie\n",
    "print(API_request(movies_index[0]))"
   ]
  },
  {
   "cell_type": "code",
   "execution_count": 9,
   "metadata": {},
   "outputs": [],
   "source": [
    "## Execution time varies on how large our subset is ##\n",
    "\n",
    "#Define how many of the top most popular movies we would like to use in our dataset:\n",
    "# subset_lenght = 500\n",
    "\n",
    "#Shrinks the movies_index which is arranged from most popular to least popular, \n",
    "#and calls the first \"subset_lenght\" amount.\n",
    "# imdb_ID_subset = movies_index[:subset_lenght]\n",
    "imdb_ID_subset = movies_index\n",
    "\n",
    "#Make requests to the API for the movie data\n",
    "imbd_API_data = list(map(lambda x: API_request(x),imdb_ID_subset))"
   ]
  },
  {
   "cell_type": "code",
   "execution_count": 10,
   "metadata": {},
   "outputs": [],
   "source": [
    "#Create a dataframe of the data obtained\n",
    "df = pd.DataFrame.from_dict(imbd_API_data)\n",
    "#df.to_csv('2010-2019.csv')"
   ]
  },
  {
   "cell_type": "code",
   "execution_count": 11,
   "metadata": {},
   "outputs": [
    {
     "name": "stdout",
     "output_type": "stream",
     "text": [
      "<class 'pandas.core.frame.DataFrame'>\n",
      "RangeIndex: 1190 entries, 0 to 1189\n",
      "Data columns (total 9 columns):\n",
      " #   Column        Non-Null Count  Dtype         \n",
      "---  ------        --------------  -----         \n",
      " 0   imdb_id       1190 non-null   object        \n",
      " 1   release_date  1190 non-null   datetime64[ns]\n",
      " 2   genres        1190 non-null   object        \n",
      " 3   title         1190 non-null   object        \n",
      " 4   budget        1190 non-null   int64         \n",
      " 5   revenue       1190 non-null   int64         \n",
      " 6   runtime_mins  1190 non-null   int64         \n",
      " 7   vote_average  1190 non-null   float64       \n",
      " 8   vote_count    1190 non-null   int64         \n",
      "dtypes: datetime64[ns](1), float64(1), int64(4), object(3)\n",
      "memory usage: 83.8+ KB\n"
     ]
    }
   ],
   "source": [
    "df.info()"
   ]
  },
  {
   "cell_type": "code",
   "execution_count": 2,
   "metadata": {},
   "outputs": [
    {
     "ename": "NameError",
     "evalue": "name 'df' is not defined",
     "output_type": "error",
     "traceback": [
      "\u001b[1;31m---------------------------------------------------------------------------\u001b[0m",
      "\u001b[1;31mNameError\u001b[0m                                 Traceback (most recent call last)",
      "\u001b[1;32m<ipython-input-2-7f5d8e994bfa>\u001b[0m in \u001b[0;36m<module>\u001b[1;34m\u001b[0m\n\u001b[0;32m      1\u001b[0m \u001b[1;31m#Split the genres column into individual rows and set the index to \"imbd_id\"\u001b[0m\u001b[1;33m\u001b[0m\u001b[1;33m\u001b[0m\u001b[1;33m\u001b[0m\u001b[0m\n\u001b[1;32m----> 2\u001b[1;33m \u001b[0ms\u001b[0m \u001b[1;33m=\u001b[0m \u001b[0mdf\u001b[0m\u001b[1;33m.\u001b[0m\u001b[0mapply\u001b[0m\u001b[1;33m(\u001b[0m\u001b[1;32mlambda\u001b[0m \u001b[0mx\u001b[0m\u001b[1;33m:\u001b[0m \u001b[0mpd\u001b[0m\u001b[1;33m.\u001b[0m\u001b[0mSeries\u001b[0m\u001b[1;33m(\u001b[0m\u001b[0mx\u001b[0m\u001b[1;33m[\u001b[0m\u001b[1;34m'genres'\u001b[0m\u001b[1;33m]\u001b[0m\u001b[1;33m)\u001b[0m\u001b[1;33m,\u001b[0m\u001b[0maxis\u001b[0m\u001b[1;33m=\u001b[0m\u001b[1;36m1\u001b[0m\u001b[1;33m)\u001b[0m\u001b[1;33m.\u001b[0m\u001b[0mstack\u001b[0m\u001b[1;33m(\u001b[0m\u001b[1;33m)\u001b[0m\u001b[1;33m.\u001b[0m\u001b[0mreset_index\u001b[0m\u001b[1;33m(\u001b[0m\u001b[0mlevel\u001b[0m\u001b[1;33m=\u001b[0m\u001b[1;36m1\u001b[0m\u001b[1;33m,\u001b[0m \u001b[0mdrop\u001b[0m\u001b[1;33m=\u001b[0m\u001b[1;32mTrue\u001b[0m\u001b[1;33m)\u001b[0m\u001b[1;33m\u001b[0m\u001b[1;33m\u001b[0m\u001b[0m\n\u001b[0m\u001b[0;32m      3\u001b[0m \u001b[0ms\u001b[0m\u001b[1;33m.\u001b[0m\u001b[0mname\u001b[0m \u001b[1;33m=\u001b[0m \u001b[1;34m'genre'\u001b[0m\u001b[1;33m\u001b[0m\u001b[1;33m\u001b[0m\u001b[0m\n\u001b[0;32m      4\u001b[0m \u001b[0mcleaned_df\u001b[0m \u001b[1;33m=\u001b[0m \u001b[0mdf\u001b[0m\u001b[1;33m.\u001b[0m\u001b[0mdrop\u001b[0m\u001b[1;33m(\u001b[0m\u001b[1;34m'genres'\u001b[0m\u001b[1;33m,\u001b[0m\u001b[0maxis\u001b[0m\u001b[1;33m=\u001b[0m\u001b[1;36m1\u001b[0m\u001b[1;33m)\u001b[0m\u001b[1;33m.\u001b[0m\u001b[0mjoin\u001b[0m\u001b[1;33m(\u001b[0m\u001b[0ms\u001b[0m\u001b[1;33m)\u001b[0m\u001b[1;33m.\u001b[0m\u001b[0mset_index\u001b[0m\u001b[1;33m(\u001b[0m\u001b[1;34m'imdb_id'\u001b[0m\u001b[1;33m)\u001b[0m\u001b[1;33m\u001b[0m\u001b[1;33m\u001b[0m\u001b[0m\n\u001b[0;32m      5\u001b[0m \u001b[1;31m#cleaned_df.to_csv('2010-2019.csv')\u001b[0m\u001b[1;33m\u001b[0m\u001b[1;33m\u001b[0m\u001b[1;33m\u001b[0m\u001b[0m\n",
      "\u001b[1;31mNameError\u001b[0m: name 'df' is not defined"
     ]
    }
   ],
   "source": [
    "#Split the genres column into individual rows and set the index to \"imbd_id\"\n",
    "s = df.apply(lambda x: pd.Series(x['genres']),axis=1).stack().reset_index(level=1, drop=True)\n",
    "s.name = 'genre'\n",
    "cleaned_df = df.drop('genres',axis=1).join(s).set_index('imdb_id')\n",
    "#cleaned_df.to_csv('2010-2019.csv')\n",
    "\n",
    "cleaned_df"
   ]
  },
  {
   "cell_type": "code",
   "execution_count": null,
   "metadata": {},
   "outputs": [],
   "source": [
    "cleaned_df.info()"
   ]
  }
 ],
 "metadata": {
  "kernelspec": {
   "display_name": "learn-env",
   "language": "python",
   "name": "learn-env"
  },
  "language_info": {
   "codemirror_mode": {
    "name": "ipython",
    "version": 3
   },
   "file_extension": ".py",
   "mimetype": "text/x-python",
   "name": "python",
   "nbconvert_exporter": "python",
   "pygments_lexer": "ipython3",
   "version": "3.7.6"
  }
 },
 "nbformat": 4,
 "nbformat_minor": 2
}
