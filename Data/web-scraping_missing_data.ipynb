{
 "cells": [
  {
   "cell_type": "markdown",
   "metadata": {},
   "source": [
    "General Imports for Web-Scraping"
   ]
  },
  {
   "cell_type": "code",
   "execution_count": 1,
   "metadata": {},
   "outputs": [],
   "source": [
    "from bs4 import BeautifulSoup\n",
    "import requests\n",
    "import re\n",
    "import pandas as pd"
   ]
  },
  {
   "cell_type": "markdown",
   "metadata": {},
   "source": [
    "Making Soup"
   ]
  },
  {
   "cell_type": "code",
   "execution_count": 2,
   "metadata": {},
   "outputs": [],
   "source": [
    "numbers_url = {}\n",
    "for year in range(2010, 2020):\n",
    "    numbers_url[year] = 'https://www.the-numbers.com/market/%s/top-grossing-movies' % year\n",
    "numbers_response = {}\n",
    "for year in range(2010, 2020):\n",
    "    numbers_response[year] = requests.get(numbers_url[year])\n",
    "numbers_soup = {}\n",
    "for year in range(2010, 2020):\n",
    "    numbers_soup[year] = BeautifulSoup(numbers_response[year].text, 'lxml')"
   ]
  },
  {
   "cell_type": "markdown",
   "metadata": {},
   "source": [
    "Containers"
   ]
  },
  {
   "cell_type": "code",
   "execution_count": 3,
   "metadata": {},
   "outputs": [],
   "source": [
    "# Container with Table\n",
    "numbers_warning = {}\n",
    "for year in range(2010, 2020):\n",
    "    numbers_warning[year] = numbers_soup[year].find('table')\n",
    "\n",
    "# Container with General Information\n",
    "numbers_infocontainer = {}\n",
    "for year in range (2010, 2020):\n",
    "    numbers_infocontainer[year] = numbers_warning[year].find_all('tr')"
   ]
  },
  {
   "cell_type": "markdown",
   "metadata": {},
   "source": [
    "Scraping Movies"
   ]
  },
  {
   "cell_type": "code",
   "execution_count": 4,
   "metadata": {},
   "outputs": [
    {
     "name": "stdout",
     "output_type": "stream",
     "text": [
      "7426\n"
     ]
    }
   ],
   "source": [
    "numbers_movies = []\n",
    "for year in range (2010, 2020):\n",
    "    for a in range(1, len(numbers_infocontainer[year])-2):\n",
    "        numbers_movies.append(numbers_infocontainer[year][a].find_all('a')[0].get_text())\n",
    "print (len(numbers_movies))"
   ]
  },
  {
   "cell_type": "markdown",
   "metadata": {},
   "source": [
    "Scraping Release Dates"
   ]
  },
  {
   "cell_type": "code",
   "execution_count": 5,
   "metadata": {},
   "outputs": [
    {
     "name": "stdout",
     "output_type": "stream",
     "text": [
      "7426\n"
     ]
    }
   ],
   "source": [
    "numbers_dates = []\n",
    "for year in range (2010, 2020):\n",
    "    for b in range(1, len(numbers_infocontainer[year])-2):\n",
    "        numbers_dates.append(numbers_infocontainer[year][b].find_all('a')[1].get_text())\n",
    "print (len(numbers_dates))"
   ]
  },
  {
   "cell_type": "markdown",
   "metadata": {},
   "source": [
    "Scraping Genre"
   ]
  },
  {
   "cell_type": "code",
   "execution_count": 6,
   "metadata": {},
   "outputs": [
    {
     "name": "stdout",
     "output_type": "stream",
     "text": [
      "7426\n"
     ]
    }
   ],
   "source": [
    "numbers_genres = []\n",
    "for year in range (2010, 2020):\n",
    "    for c in range(1, len(numbers_infocontainer[year])-2):\n",
    "        try:\n",
    "            numbers_genres.append(numbers_infocontainer[year][c].find_all('a')[3].get_text())\n",
    "        except:\n",
    "            numbers_genres.append(None)\n",
    "print (len(numbers_genres))"
   ]
  },
  {
   "cell_type": "markdown",
   "metadata": {},
   "source": [
    "Scraping Gross"
   ]
  },
  {
   "cell_type": "code",
   "execution_count": 7,
   "metadata": {},
   "outputs": [
    {
     "name": "stdout",
     "output_type": "stream",
     "text": [
      "7426\n"
     ]
    }
   ],
   "source": [
    "numbers_gross = []\n",
    "for year in range (2010, 2020):\n",
    "    for d in range(1, len(numbers_infocontainer[year])-2):\n",
    "        phrase = numbers_infocontainer[year][d].find_all('td', class_=\"data\")[1].get_text()\n",
    "        phrases = phrase.split('$')[1]\n",
    "        number = phrases.replace(',','')\n",
    "        numbers_gross.append(int(number))\n",
    "print (len(numbers_gross))"
   ]
  },
  {
   "cell_type": "markdown",
   "metadata": {},
   "source": [
    "Making More Soup"
   ]
  },
  {
   "cell_type": "code",
   "execution_count": 8,
   "metadata": {},
   "outputs": [],
   "source": [
    "pages = []\n",
    "pagesetup = 1\n",
    "while pagesetup <= 6001:\n",
    "    pages.append(pagesetup)\n",
    "    pagesetup +=100\n",
    "\n",
    "morenumbers_url = {}\n",
    "for page in pages:\n",
    "    morenumbers_url[page] = 'https://www.the-numbers.com/movie/budgets/all/%s' % page\n",
    "morenumbers_url[1] = 'https://www.the-numbers.com/movie/budgets/all'\n",
    "\n",
    "morenumbers_response = {}\n",
    "for page in pages:\n",
    "    morenumbers_response[page] = requests.get(morenumbers_url[page])\n",
    "\n",
    "    morenumbers_soup = {}\n",
    "for page in pages:\n",
    "    morenumbers_soup[page] = BeautifulSoup(morenumbers_response[page].text, 'lxml')"
   ]
  },
  {
   "cell_type": "markdown",
   "metadata": {},
   "source": [
    "More Containers"
   ]
  },
  {
   "cell_type": "code",
   "execution_count": 9,
   "metadata": {},
   "outputs": [],
   "source": [
    "# Container with Table\n",
    "morenumbers_warning = {}\n",
    "for page in pages:\n",
    "    morenumbers_warning[page] = morenumbers_soup[page].find('table')\n",
    "\n",
    "# Container with General Information\n",
    "morenumbers_infocontainer = {}\n",
    "for page in pages:\n",
    "    morenumbers_infocontainer[page] = morenumbers_warning[page].find_all('tr')"
   ]
  },
  {
   "cell_type": "markdown",
   "metadata": {},
   "source": [
    "Scraping Movies"
   ]
  },
  {
   "cell_type": "code",
   "execution_count": 10,
   "metadata": {},
   "outputs": [
    {
     "data": {
      "text/plain": [
       "'Avengers: Endgame'"
      ]
     },
     "execution_count": 10,
     "metadata": {},
     "output_type": "execute_result"
    }
   ],
   "source": [
    "morenumbers_infocontainer[1][1].find_all('a')[1].get_text()"
   ]
  },
  {
   "cell_type": "code",
   "execution_count": 11,
   "metadata": {},
   "outputs": [
    {
     "name": "stdout",
     "output_type": "stream",
     "text": [
      "6043\n"
     ]
    }
   ],
   "source": [
    "morenumbers_movies = []\n",
    "for page in pages:\n",
    "    for a in range(1, len(morenumbers_infocontainer[page])):\n",
    "        morenumbers_movies.append(morenumbers_infocontainer[page][a].find_all('a')[1].get_text())\n",
    "print (len(morenumbers_movies))"
   ]
  },
  {
   "cell_type": "markdown",
   "metadata": {},
   "source": [
    "Scraping Production Budget"
   ]
  },
  {
   "cell_type": "code",
   "execution_count": 12,
   "metadata": {},
   "outputs": [
    {
     "data": {
      "text/plain": [
       "'\\xa0$400,000,000'"
      ]
     },
     "execution_count": 12,
     "metadata": {},
     "output_type": "execute_result"
    }
   ],
   "source": [
    "morenumbers_infocontainer[1][1].find_all('td', class_='data')[1].get_text()"
   ]
  },
  {
   "cell_type": "code",
   "execution_count": 13,
   "metadata": {},
   "outputs": [
    {
     "name": "stdout",
     "output_type": "stream",
     "text": [
      "6043\n",
      "400000000\n"
     ]
    }
   ],
   "source": [
    "morenumbers_production = []\n",
    "for page in pages:\n",
    "    for b in range(1, len(morenumbers_infocontainer[page])):\n",
    "        phrase = morenumbers_infocontainer[page][b].find_all('td', class_='data')[1].get_text()\n",
    "        phrases = phrase.split('$')[1]\n",
    "        number = phrases.replace(',','')\n",
    "        morenumbers_production.append(int(number))\n",
    "print (len(morenumbers_production))\n",
    "print (morenumbers_production[0])"
   ]
  },
  {
   "cell_type": "markdown",
   "metadata": {},
   "source": [
    "Scraping Domestic Gross"
   ]
  },
  {
   "cell_type": "code",
   "execution_count": 14,
   "metadata": {},
   "outputs": [
    {
     "data": {
      "text/plain": [
       "'\\xa0$858,373,000'"
      ]
     },
     "execution_count": 14,
     "metadata": {},
     "output_type": "execute_result"
    }
   ],
   "source": [
    "morenumbers_infocontainer[1][1].find_all('td', class_='data')[2].get_text()"
   ]
  },
  {
   "cell_type": "code",
   "execution_count": 15,
   "metadata": {},
   "outputs": [
    {
     "name": "stdout",
     "output_type": "stream",
     "text": [
      "6043\n",
      "858373000\n"
     ]
    }
   ],
   "source": [
    "morenumbers_domestic = []\n",
    "for page in pages:\n",
    "    for c in range(1, len(morenumbers_infocontainer[page])):\n",
    "        phrase = morenumbers_infocontainer[page][c].find_all('td', class_='data')[2].get_text()\n",
    "        phrases = phrase.split('$')[1]\n",
    "        number = phrases.replace(',','')\n",
    "        morenumbers_domestic.append(int(number))\n",
    "print (len(morenumbers_domestic))\n",
    "print (morenumbers_domestic[0])"
   ]
  },
  {
   "cell_type": "markdown",
   "metadata": {},
   "source": [
    "Scraping Worldwide Gross"
   ]
  },
  {
   "cell_type": "code",
   "execution_count": 16,
   "metadata": {},
   "outputs": [
    {
     "data": {
      "text/plain": [
       "'\\xa0$2,797,800,564'"
      ]
     },
     "execution_count": 16,
     "metadata": {},
     "output_type": "execute_result"
    }
   ],
   "source": [
    "morenumbers_infocontainer[1][1].find_all('td', class_='data')[3].get_text()"
   ]
  },
  {
   "cell_type": "code",
   "execution_count": 17,
   "metadata": {},
   "outputs": [
    {
     "name": "stdout",
     "output_type": "stream",
     "text": [
      "6043\n",
      "2797800564\n"
     ]
    }
   ],
   "source": [
    "morenumbers_worldwide = []\n",
    "for page in pages:\n",
    "    for d in range(1, len(morenumbers_infocontainer[page])):\n",
    "        phrase = morenumbers_infocontainer[page][d].find_all('td', class_='data')[3].get_text()\n",
    "        phrases = phrase.split('$')[1]\n",
    "        number = phrases.replace(',','')\n",
    "        morenumbers_worldwide.append(int(number))\n",
    "print (len(morenumbers_worldwide))\n",
    "print (morenumbers_worldwide[0])"
   ]
  },
  {
   "cell_type": "markdown",
   "metadata": {},
   "source": [
    "Finding Foreign Gross"
   ]
  },
  {
   "cell_type": "code",
   "execution_count": 18,
   "metadata": {},
   "outputs": [],
   "source": [
    "def foreign(x, y):\n",
    "    return (x - y)"
   ]
  },
  {
   "cell_type": "code",
   "execution_count": 19,
   "metadata": {},
   "outputs": [
    {
     "name": "stdout",
     "output_type": "stream",
     "text": [
      "6043\n"
     ]
    }
   ],
   "source": [
    "morenumbers_foreign = []\n",
    "for element in range(0, 6043):\n",
    "    morenumbers_foreign.append(foreign(morenumbers_worldwide[element], morenumbers_domestic[element]))\n",
    "print (len(morenumbers_foreign))"
   ]
  },
  {
   "cell_type": "markdown",
   "metadata": {},
   "source": [
    "Pandas"
   ]
  },
  {
   "cell_type": "code",
   "execution_count": 20,
   "metadata": {},
   "outputs": [
    {
     "data": {
      "text/html": [
       "<div>\n",
       "<style scoped>\n",
       "    .dataframe tbody tr th:only-of-type {\n",
       "        vertical-align: middle;\n",
       "    }\n",
       "\n",
       "    .dataframe tbody tr th {\n",
       "        vertical-align: top;\n",
       "    }\n",
       "\n",
       "    .dataframe thead th {\n",
       "        text-align: right;\n",
       "    }\n",
       "</style>\n",
       "<table border=\"1\" class=\"dataframe\">\n",
       "  <thead>\n",
       "    <tr style=\"text-align: right;\">\n",
       "      <th></th>\n",
       "      <th>release_date</th>\n",
       "      <th>title</th>\n",
       "      <th>genres</th>\n",
       "      <th>domestic_gross</th>\n",
       "    </tr>\n",
       "  </thead>\n",
       "  <tbody>\n",
       "    <tr>\n",
       "      <th>0</th>\n",
       "      <td>Jun 18, 2010</td>\n",
       "      <td>Toy Story 3</td>\n",
       "      <td>Adventure</td>\n",
       "      <td>415004880</td>\n",
       "    </tr>\n",
       "    <tr>\n",
       "      <th>1</th>\n",
       "      <td>Dec 18, 2009</td>\n",
       "      <td>Avatar</td>\n",
       "      <td>Action</td>\n",
       "      <td>408392727</td>\n",
       "    </tr>\n",
       "    <tr>\n",
       "      <th>2</th>\n",
       "      <td>Mar 5, 2010</td>\n",
       "      <td>Alice in Wonderland</td>\n",
       "      <td>Adventure</td>\n",
       "      <td>334191110</td>\n",
       "    </tr>\n",
       "    <tr>\n",
       "      <th>3</th>\n",
       "      <td>May 7, 2010</td>\n",
       "      <td>Iron Man 2</td>\n",
       "      <td>Action</td>\n",
       "      <td>312433331</td>\n",
       "    </tr>\n",
       "    <tr>\n",
       "      <th>4</th>\n",
       "      <td>Jun 30, 2010</td>\n",
       "      <td>The Twilight Saga: Eclipse</td>\n",
       "      <td>Drama</td>\n",
       "      <td>300531751</td>\n",
       "    </tr>\n",
       "    <tr>\n",
       "      <th>...</th>\n",
       "      <td>...</td>\n",
       "      <td>...</td>\n",
       "      <td>...</td>\n",
       "      <td>...</td>\n",
       "    </tr>\n",
       "    <tr>\n",
       "      <th>7421</th>\n",
       "      <td>Nov 9, 2018</td>\n",
       "      <td>Chef Flynn</td>\n",
       "      <td>Documentary</td>\n",
       "      <td>721</td>\n",
       "    </tr>\n",
       "    <tr>\n",
       "      <th>7422</th>\n",
       "      <td>Sep 7, 2018</td>\n",
       "      <td>I am Not a Witch</td>\n",
       "      <td>Drama</td>\n",
       "      <td>550</td>\n",
       "    </tr>\n",
       "    <tr>\n",
       "      <th>7423</th>\n",
       "      <td>Dec 7, 2018</td>\n",
       "      <td>Divide and Conquer: The Sto…</td>\n",
       "      <td>Documentary</td>\n",
       "      <td>474</td>\n",
       "    </tr>\n",
       "    <tr>\n",
       "      <th>7424</th>\n",
       "      <td>Jul 8, 1968</td>\n",
       "      <td>Senso</td>\n",
       "      <td>Drama</td>\n",
       "      <td>437</td>\n",
       "    </tr>\n",
       "    <tr>\n",
       "      <th>7425</th>\n",
       "      <td>Dec 13, 2018</td>\n",
       "      <td>Never-Ending Man: Hayao Miy…</td>\n",
       "      <td>Documentary</td>\n",
       "      <td>376</td>\n",
       "    </tr>\n",
       "  </tbody>\n",
       "</table>\n",
       "<p>7426 rows × 4 columns</p>\n",
       "</div>"
      ],
      "text/plain": [
       "      release_date                         title       genres domestic_gross\n",
       "0     Jun 18, 2010                   Toy Story 3    Adventure      415004880\n",
       "1     Dec 18, 2009                        Avatar       Action      408392727\n",
       "2      Mar 5, 2010           Alice in Wonderland    Adventure      334191110\n",
       "3      May 7, 2010                    Iron Man 2       Action      312433331\n",
       "4     Jun 30, 2010    The Twilight Saga: Eclipse        Drama      300531751\n",
       "...            ...                           ...          ...            ...\n",
       "7421   Nov 9, 2018                    Chef Flynn  Documentary            721\n",
       "7422   Sep 7, 2018              I am Not a Witch        Drama            550\n",
       "7423   Dec 7, 2018  Divide and Conquer: The Sto…  Documentary            474\n",
       "7424   Jul 8, 1968                         Senso        Drama            437\n",
       "7425  Dec 13, 2018  Never-Ending Man: Hayao Miy…  Documentary            376\n",
       "\n",
       "[7426 rows x 4 columns]"
      ]
     },
     "execution_count": 20,
     "metadata": {},
     "output_type": "execute_result"
    }
   ],
   "source": [
    "numbers_df = pd.DataFrame([numbers_dates, numbers_movies, numbers_genres, numbers_gross]).transpose()\n",
    "numbers_df.columns = ['release_date', 'title',  'genres', 'domestic_gross']\n",
    "numbers_df"
   ]
  },
  {
   "cell_type": "code",
   "execution_count": 21,
   "metadata": {},
   "outputs": [
    {
     "data": {
      "text/html": [
       "<div>\n",
       "<style scoped>\n",
       "    .dataframe tbody tr th:only-of-type {\n",
       "        vertical-align: middle;\n",
       "    }\n",
       "\n",
       "    .dataframe tbody tr th {\n",
       "        vertical-align: top;\n",
       "    }\n",
       "\n",
       "    .dataframe thead th {\n",
       "        text-align: right;\n",
       "    }\n",
       "</style>\n",
       "<table border=\"1\" class=\"dataframe\">\n",
       "  <thead>\n",
       "    <tr style=\"text-align: right;\">\n",
       "      <th></th>\n",
       "      <th>title</th>\n",
       "      <th>production_budget</th>\n",
       "      <th>domestic_gross</th>\n",
       "      <th>foreign_gross</th>\n",
       "      <th>worldwide_gross</th>\n",
       "    </tr>\n",
       "  </thead>\n",
       "  <tbody>\n",
       "    <tr>\n",
       "      <th>0</th>\n",
       "      <td>Avengers: Endgame</td>\n",
       "      <td>400000000</td>\n",
       "      <td>858373000</td>\n",
       "      <td>1939427564</td>\n",
       "      <td>2797800564</td>\n",
       "    </tr>\n",
       "    <tr>\n",
       "      <th>1</th>\n",
       "      <td>Pirates of the Caribbean: On Stranger Tides</td>\n",
       "      <td>379000000</td>\n",
       "      <td>241063875</td>\n",
       "      <td>804600000</td>\n",
       "      <td>1045663875</td>\n",
       "    </tr>\n",
       "    <tr>\n",
       "      <th>2</th>\n",
       "      <td>Avengers: Age of Ultron</td>\n",
       "      <td>365000000</td>\n",
       "      <td>459005868</td>\n",
       "      <td>937093334</td>\n",
       "      <td>1396099202</td>\n",
       "    </tr>\n",
       "    <tr>\n",
       "      <th>3</th>\n",
       "      <td>Star Wars Ep. VII: The Force Awakens</td>\n",
       "      <td>306000000</td>\n",
       "      <td>936662225</td>\n",
       "      <td>1128815859</td>\n",
       "      <td>2065478084</td>\n",
       "    </tr>\n",
       "    <tr>\n",
       "      <th>4</th>\n",
       "      <td>Avengers: Infinity War</td>\n",
       "      <td>300000000</td>\n",
       "      <td>678815482</td>\n",
       "      <td>1369544272</td>\n",
       "      <td>2048359754</td>\n",
       "    </tr>\n",
       "    <tr>\n",
       "      <th>...</th>\n",
       "      <td>...</td>\n",
       "      <td>...</td>\n",
       "      <td>...</td>\n",
       "      <td>...</td>\n",
       "      <td>...</td>\n",
       "    </tr>\n",
       "    <tr>\n",
       "      <th>6038</th>\n",
       "      <td>Red 11</td>\n",
       "      <td>7000</td>\n",
       "      <td>0</td>\n",
       "      <td>0</td>\n",
       "      <td>0</td>\n",
       "    </tr>\n",
       "    <tr>\n",
       "      <th>6039</th>\n",
       "      <td>Following</td>\n",
       "      <td>6000</td>\n",
       "      <td>48482</td>\n",
       "      <td>192013</td>\n",
       "      <td>240495</td>\n",
       "    </tr>\n",
       "    <tr>\n",
       "      <th>6040</th>\n",
       "      <td>Return to the Land of Wonders</td>\n",
       "      <td>5000</td>\n",
       "      <td>1338</td>\n",
       "      <td>0</td>\n",
       "      <td>1338</td>\n",
       "    </tr>\n",
       "    <tr>\n",
       "      <th>6041</th>\n",
       "      <td>A Plague So Pleasant</td>\n",
       "      <td>1400</td>\n",
       "      <td>0</td>\n",
       "      <td>0</td>\n",
       "      <td>0</td>\n",
       "    </tr>\n",
       "    <tr>\n",
       "      <th>6042</th>\n",
       "      <td>My Date With Drew</td>\n",
       "      <td>1100</td>\n",
       "      <td>181041</td>\n",
       "      <td>0</td>\n",
       "      <td>181041</td>\n",
       "    </tr>\n",
       "  </tbody>\n",
       "</table>\n",
       "<p>6043 rows × 5 columns</p>\n",
       "</div>"
      ],
      "text/plain": [
       "                                            title production_budget  \\\n",
       "0                               Avengers: Endgame         400000000   \n",
       "1     Pirates of the Caribbean: On Stranger Tides         379000000   \n",
       "2                         Avengers: Age of Ultron         365000000   \n",
       "3            Star Wars Ep. VII: The Force Awakens         306000000   \n",
       "4                          Avengers: Infinity War         300000000   \n",
       "...                                           ...               ...   \n",
       "6038                                       Red 11              7000   \n",
       "6039                                    Following              6000   \n",
       "6040                Return to the Land of Wonders              5000   \n",
       "6041                         A Plague So Pleasant              1400   \n",
       "6042                            My Date With Drew              1100   \n",
       "\n",
       "     domestic_gross foreign_gross worldwide_gross  \n",
       "0         858373000    1939427564      2797800564  \n",
       "1         241063875     804600000      1045663875  \n",
       "2         459005868     937093334      1396099202  \n",
       "3         936662225    1128815859      2065478084  \n",
       "4         678815482    1369544272      2048359754  \n",
       "...             ...           ...             ...  \n",
       "6038              0             0               0  \n",
       "6039          48482        192013          240495  \n",
       "6040           1338             0            1338  \n",
       "6041              0             0               0  \n",
       "6042         181041             0          181041  \n",
       "\n",
       "[6043 rows x 5 columns]"
      ]
     },
     "execution_count": 21,
     "metadata": {},
     "output_type": "execute_result"
    }
   ],
   "source": [
    "morenumbers_df = pd.DataFrame([morenumbers_movies, morenumbers_production, morenumbers_domestic, morenumbers_foreign, morenumbers_worldwide]).transpose()\n",
    "morenumbers_df.columns = ['title', 'production_budget', 'domestic_gross', 'foreign_gross', 'worldwide_gross']\n",
    "morenumbers_df"
   ]
  },
  {
   "cell_type": "markdown",
   "metadata": {},
   "source": [
    "Merging and Cleaning DataFrames"
   ]
  },
  {
   "cell_type": "code",
   "execution_count": 22,
   "metadata": {},
   "outputs": [
    {
     "data": {
      "text/html": [
       "<div>\n",
       "<style scoped>\n",
       "    .dataframe tbody tr th:only-of-type {\n",
       "        vertical-align: middle;\n",
       "    }\n",
       "\n",
       "    .dataframe tbody tr th {\n",
       "        vertical-align: top;\n",
       "    }\n",
       "\n",
       "    .dataframe thead th {\n",
       "        text-align: right;\n",
       "    }\n",
       "</style>\n",
       "<table border=\"1\" class=\"dataframe\">\n",
       "  <thead>\n",
       "    <tr style=\"text-align: right;\">\n",
       "      <th></th>\n",
       "      <th>release_date</th>\n",
       "      <th>title</th>\n",
       "      <th>genres</th>\n",
       "      <th>production_budget</th>\n",
       "      <th>domestic_gross</th>\n",
       "      <th>foreign_gross</th>\n",
       "      <th>worldwide_gross</th>\n",
       "    </tr>\n",
       "  </thead>\n",
       "  <tbody>\n",
       "    <tr>\n",
       "      <th>0</th>\n",
       "      <td>2010-06-18</td>\n",
       "      <td>Toy Story 3</td>\n",
       "      <td>Adventure</td>\n",
       "      <td>200000000</td>\n",
       "      <td>415004880</td>\n",
       "      <td>653874642</td>\n",
       "      <td>1068879522</td>\n",
       "    </tr>\n",
       "    <tr>\n",
       "      <th>1</th>\n",
       "      <td>2009-12-18</td>\n",
       "      <td>Avatar</td>\n",
       "      <td>Action</td>\n",
       "      <td>237000000</td>\n",
       "      <td>408392727</td>\n",
       "      <td>2028193712</td>\n",
       "      <td>2788701337</td>\n",
       "    </tr>\n",
       "    <tr>\n",
       "      <th>2</th>\n",
       "      <td>2010-03-05</td>\n",
       "      <td>Alice in Wonderland</td>\n",
       "      <td>Adventure</td>\n",
       "      <td>200000000</td>\n",
       "      <td>334191110</td>\n",
       "      <td>691300000</td>\n",
       "      <td>1025491110</td>\n",
       "    </tr>\n",
       "    <tr>\n",
       "      <th>3</th>\n",
       "      <td>2010-03-05</td>\n",
       "      <td>Alice in Wonderland</td>\n",
       "      <td>Adventure</td>\n",
       "      <td>3000000</td>\n",
       "      <td>334191110</td>\n",
       "      <td>0</td>\n",
       "      <td>0</td>\n",
       "    </tr>\n",
       "    <tr>\n",
       "      <th>4</th>\n",
       "      <td>2010-05-07</td>\n",
       "      <td>Iron Man 2</td>\n",
       "      <td>Action</td>\n",
       "      <td>170000000</td>\n",
       "      <td>312433331</td>\n",
       "      <td>308723058</td>\n",
       "      <td>621156389</td>\n",
       "    </tr>\n",
       "    <tr>\n",
       "      <th>...</th>\n",
       "      <td>...</td>\n",
       "      <td>...</td>\n",
       "      <td>...</td>\n",
       "      <td>...</td>\n",
       "      <td>...</td>\n",
       "      <td>...</td>\n",
       "      <td>...</td>\n",
       "    </tr>\n",
       "    <tr>\n",
       "      <th>7512</th>\n",
       "      <td>2018-11-09</td>\n",
       "      <td>Chef Flynn</td>\n",
       "      <td>Documentary</td>\n",
       "      <td>NaN</td>\n",
       "      <td>721</td>\n",
       "      <td>NaN</td>\n",
       "      <td>NaN</td>\n",
       "    </tr>\n",
       "    <tr>\n",
       "      <th>7513</th>\n",
       "      <td>2018-09-07</td>\n",
       "      <td>I am Not a Witch</td>\n",
       "      <td>Drama</td>\n",
       "      <td>NaN</td>\n",
       "      <td>550</td>\n",
       "      <td>NaN</td>\n",
       "      <td>NaN</td>\n",
       "    </tr>\n",
       "    <tr>\n",
       "      <th>7514</th>\n",
       "      <td>2018-12-07</td>\n",
       "      <td>Divide and Conquer: The Sto…</td>\n",
       "      <td>Documentary</td>\n",
       "      <td>NaN</td>\n",
       "      <td>474</td>\n",
       "      <td>NaN</td>\n",
       "      <td>NaN</td>\n",
       "    </tr>\n",
       "    <tr>\n",
       "      <th>7515</th>\n",
       "      <td>1968-07-08</td>\n",
       "      <td>Senso</td>\n",
       "      <td>Drama</td>\n",
       "      <td>NaN</td>\n",
       "      <td>437</td>\n",
       "      <td>NaN</td>\n",
       "      <td>NaN</td>\n",
       "    </tr>\n",
       "    <tr>\n",
       "      <th>7516</th>\n",
       "      <td>2018-12-13</td>\n",
       "      <td>Never-Ending Man: Hayao Miy…</td>\n",
       "      <td>Documentary</td>\n",
       "      <td>NaN</td>\n",
       "      <td>376</td>\n",
       "      <td>NaN</td>\n",
       "      <td>NaN</td>\n",
       "    </tr>\n",
       "  </tbody>\n",
       "</table>\n",
       "<p>7517 rows × 7 columns</p>\n",
       "</div>"
      ],
      "text/plain": [
       "     release_date                         title       genres  \\\n",
       "0      2010-06-18                   Toy Story 3    Adventure   \n",
       "1      2009-12-18                        Avatar       Action   \n",
       "2      2010-03-05           Alice in Wonderland    Adventure   \n",
       "3      2010-03-05           Alice in Wonderland    Adventure   \n",
       "4      2010-05-07                    Iron Man 2       Action   \n",
       "...           ...                           ...          ...   \n",
       "7512   2018-11-09                    Chef Flynn  Documentary   \n",
       "7513   2018-09-07              I am Not a Witch        Drama   \n",
       "7514   2018-12-07  Divide and Conquer: The Sto…  Documentary   \n",
       "7515   1968-07-08                         Senso        Drama   \n",
       "7516   2018-12-13  Never-Ending Man: Hayao Miy…  Documentary   \n",
       "\n",
       "     production_budget domestic_gross foreign_gross worldwide_gross  \n",
       "0            200000000      415004880     653874642      1068879522  \n",
       "1            237000000      408392727    2028193712      2788701337  \n",
       "2            200000000      334191110     691300000      1025491110  \n",
       "3              3000000      334191110             0               0  \n",
       "4            170000000      312433331     308723058       621156389  \n",
       "...                ...            ...           ...             ...  \n",
       "7512               NaN            721           NaN             NaN  \n",
       "7513               NaN            550           NaN             NaN  \n",
       "7514               NaN            474           NaN             NaN  \n",
       "7515               NaN            437           NaN             NaN  \n",
       "7516               NaN            376           NaN             NaN  \n",
       "\n",
       "[7517 rows x 7 columns]"
      ]
     },
     "execution_count": 22,
     "metadata": {},
     "output_type": "execute_result"
    }
   ],
   "source": [
    "mergednumbers_df = numbers_df.merge(morenumbers_df, on='title', how='left')\n",
    "mergednumbers_df['domestic_gross'] = mergednumbers_df['domestic_gross_x']\n",
    "mergednumbers_df.drop(['domestic_gross_x', 'domestic_gross_y'], axis=1, inplace=True)\n",
    "mergednumbers_df = mergednumbers_df.reindex(columns=['release_date', 'title', 'genres', 'production_budget', 'domestic_gross', 'foreign_gross', 'worldwide_gross'])\n",
    "mergednumbers_df['release_date'] = pd.to_datetime(mergednumbers_df['release_date'], errors='coerce')\n",
    "mergednumbers_df"
   ]
  },
  {
   "cell_type": "markdown",
   "metadata": {},
   "source": [
    "Remove \"#\" to Export (.csv)"
   ]
  },
  {
   "cell_type": "code",
   "execution_count": 23,
   "metadata": {},
   "outputs": [],
   "source": [
    "#mergednumbers_df.to_csv('numbers_df.csv', index=False)"
   ]
  }
 ],
 "metadata": {
  "kernelspec": {
   "display_name": "learn-env",
   "language": "python",
   "name": "learn-env"
  },
  "language_info": {
   "codemirror_mode": {
    "name": "ipython",
    "version": 3
   },
   "file_extension": ".py",
   "mimetype": "text/x-python",
   "name": "python",
   "nbconvert_exporter": "python",
   "pygments_lexer": "ipython3",
   "version": "3.7.6"
  }
 },
 "nbformat": 4,
 "nbformat_minor": 2
}
