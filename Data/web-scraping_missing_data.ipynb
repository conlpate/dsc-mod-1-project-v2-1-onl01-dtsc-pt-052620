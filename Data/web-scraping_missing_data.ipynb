{
 "cells": [
  {
   "cell_type": "markdown",
   "metadata": {},
   "source": [
    "<b>General Imports for Web-Scraping</b>"
   ]
  },
  {
   "cell_type": "code",
   "execution_count": 1,
   "metadata": {},
   "outputs": [],
   "source": [
    "from bs4 import BeautifulSoup\n",
    "import requests\n",
    "import re\n",
    "import pandas as pd"
   ]
  },
  {
   "cell_type": "markdown",
   "metadata": {},
   "source": [
    "Making Soup"
   ]
  },
  {
   "cell_type": "code",
   "execution_count": 2,
   "metadata": {},
   "outputs": [],
   "source": [
    "numbers_url = {}\n",
    "for year in range(2010, 2020):\n",
    "    numbers_url[year] = 'https://www.the-numbers.com/market/%s/top-grossing-movies' % year\n",
    "numbers_response = {}\n",
    "for year in range(2010, 2020):\n",
    "    numbers_response[year] = requests.get(numbers_url[year])\n",
    "numbers_soup = {}\n",
    "for year in range(2010, 2020):\n",
    "    numbers_soup[year] = BeautifulSoup(numbers_response[year].text, 'lxml')"
   ]
  },
  {
   "cell_type": "markdown",
   "metadata": {},
   "source": [
    "Containers"
   ]
  },
  {
   "cell_type": "code",
   "execution_count": 3,
   "metadata": {},
   "outputs": [],
   "source": [
    "# Container with Table\n",
    "numbers_warning = {}\n",
    "for year in range(2010, 2020):\n",
    "    numbers_warning[year] = numbers_soup[year].find('table')\n",
    "\n",
    "# Container with General Information\n",
    "numbers_infocontainer = {}\n",
    "for year in range (2010, 2020):\n",
    "    numbers_infocontainer[year] = numbers_warning[year].find_all('tr')"
   ]
  },
  {
   "cell_type": "markdown",
   "metadata": {},
   "source": [
    "Scraping Movies"
   ]
  },
  {
   "cell_type": "code",
   "execution_count": 4,
   "metadata": {},
   "outputs": [
    {
     "name": "stdout",
     "output_type": "stream",
     "text": [
      "7426\n"
     ]
    }
   ],
   "source": [
    "numbers_movies = []\n",
    "for year in range (2010, 2020):\n",
    "    for a in range(1, len(numbers_infocontainer[year])-2):\n",
    "        numbers_movies.append(numbers_infocontainer[year][a].find_all('a')[0].get_text())\n",
    "print (len(numbers_movies))"
   ]
  },
  {
   "cell_type": "markdown",
   "metadata": {},
   "source": [
    "Scraping Release Dates"
   ]
  },
  {
   "cell_type": "code",
   "execution_count": 5,
   "metadata": {},
   "outputs": [
    {
     "name": "stdout",
     "output_type": "stream",
     "text": [
      "7426\n"
     ]
    }
   ],
   "source": [
    "numbers_dates = []\n",
    "for year in range (2010, 2020):\n",
    "    for b in range(1, len(numbers_infocontainer[year])-2):\n",
    "        numbers_dates.append(numbers_infocontainer[year][b].find_all('a')[1].get_text())\n",
    "print (len(numbers_dates))"
   ]
  },
  {
   "cell_type": "markdown",
   "metadata": {},
   "source": [
    "Scraping Genre"
   ]
  },
  {
   "cell_type": "code",
   "execution_count": 6,
   "metadata": {},
   "outputs": [
    {
     "name": "stdout",
     "output_type": "stream",
     "text": [
      "7426\n"
     ]
    }
   ],
   "source": [
    "numbers_genres = []\n",
    "for year in range (2010, 2020):\n",
    "    for c in range(1, len(numbers_infocontainer[year])-2):\n",
    "        try:\n",
    "            numbers_genres.append(numbers_infocontainer[year][c].find_all('a')[3].get_text())\n",
    "        except:\n",
    "            numbers_genres.append('ERROR')\n",
    "print (len(numbers_genres))"
   ]
  },
  {
   "cell_type": "markdown",
   "metadata": {},
   "source": [
    "Scraping Gross"
   ]
  },
  {
   "cell_type": "code",
   "execution_count": 7,
   "metadata": {},
   "outputs": [
    {
     "name": "stdout",
     "output_type": "stream",
     "text": [
      "7426\n"
     ]
    }
   ],
   "source": [
    "numbers_gross = []\n",
    "for year in range (2010, 2020):\n",
    "    for d in range(1, len(numbers_infocontainer[year])-2):\n",
    "        numbers_gross.append(numbers_infocontainer[year][d].find_all('td', class_=\"data\")[1].get_text())\n",
    "print (len(numbers_gross))"
   ]
  },
  {
   "cell_type": "markdown",
   "metadata": {},
   "source": [
    "Making More Soup"
   ]
  },
  {
   "cell_type": "code",
   "execution_count": 20,
   "metadata": {},
   "outputs": [],
   "source": [
    "pages = []\n",
    "pagesetup = 1\n",
    "while pagesetup <= 6001:\n",
    "    pages.append(pagesetup)\n",
    "    pagesetup +=100\n",
    "#print (pages)\n",
    "\n",
    "morenumbers_url = {}\n",
    "for page in pages:\n",
    "    morenumbers_url[page] = 'https://www.the-numbers.com/movie/budgets/all/%s' % page\n",
    "morenumbers_url[1] = 'https://www.the-numbers.com/movie/budgets/all'\n",
    "#print (morenumbers_url[1])\n",
    "morenumbers_response = {}\n",
    "for page in pages:\n",
    "    morenumbers_response[page] = requests.get(morenumbers_url[page])\n",
    "morenumbers_soup = {}\n",
    "for page in pages:\n",
    "    morenumbers_soup[page] = BeautifulSoup(morenumbers_response[page].text, 'lxml')"
   ]
  },
  {
   "cell_type": "markdown",
   "metadata": {},
   "source": [
    "More Containers"
   ]
  },
  {
   "cell_type": "code",
   "execution_count": 14,
   "metadata": {},
   "outputs": [],
   "source": [
    "# Container with Table\n",
    "morenumbers_warning = {}\n",
    "for page in pages:\n",
    "    morenumbers_warning[page] = morenumbers_soup[page].find('table')\n",
    "\n",
    "# Container with General Information\n",
    "morenumbers_infocontainer = {}\n",
    "for page in pages:\n",
    "    morenumbers_infocontainer[page] = morenumbers_warning[page].find_all('tr')"
   ]
  },
  {
   "cell_type": "markdown",
   "metadata": {},
   "source": [
    "Scraping Movies"
   ]
  },
  {
   "cell_type": "code",
   "execution_count": 25,
   "metadata": {},
   "outputs": [
    {
     "data": {
      "text/plain": [
       "'Avengers: Endgame'"
      ]
     },
     "execution_count": 25,
     "metadata": {},
     "output_type": "execute_result"
    }
   ],
   "source": [
    "morenumbers_infocontainer[1][1].find_all('a')[1].get_text()"
   ]
  },
  {
   "cell_type": "code",
   "execution_count": 23,
   "metadata": {},
   "outputs": [
    {
     "name": "stdout",
     "output_type": "stream",
     "text": [
      "6043\n"
     ]
    }
   ],
   "source": [
    "morenumbers_movies = []\n",
    "for page in pages:\n",
    "    for a in range(1, len(morenumbers_infocontainer[page])):\n",
    "        morenumbers_movies.append(morenumbers_infocontainer[page][a].find_all('a')[1].get_text())\n",
    "print (len(morenumbers_movies))"
   ]
  },
  {
   "cell_type": "markdown",
   "metadata": {},
   "source": [
    "Scraping Production Budget"
   ]
  },
  {
   "cell_type": "code",
   "execution_count": 26,
   "metadata": {},
   "outputs": [
    {
     "data": {
      "text/plain": [
       "'\\xa0$400,000,000'"
      ]
     },
     "execution_count": 26,
     "metadata": {},
     "output_type": "execute_result"
    }
   ],
   "source": [
    "morenumbers_infocontainer[1][1].find_all('td', class_='data')[1].get_text()"
   ]
  },
  {
   "cell_type": "code",
   "execution_count": 27,
   "metadata": {},
   "outputs": [
    {
     "name": "stdout",
     "output_type": "stream",
     "text": [
      "6043\n"
     ]
    }
   ],
   "source": [
    "morenumbers_production = []\n",
    "for page in pages:\n",
    "    for b in range(1, len(morenumbers_infocontainer[page])):\n",
    "        morenumbers_production.append(morenumbers_infocontainer[page][b].find_all('td', class_='data')[1].get_text())\n",
    "print (len(morenumbers_production))"
   ]
  },
  {
   "cell_type": "markdown",
   "metadata": {},
   "source": [
    "Scraping Domestic Gross"
   ]
  },
  {
   "cell_type": "code",
   "execution_count": 28,
   "metadata": {},
   "outputs": [
    {
     "data": {
      "text/plain": [
       "'\\xa0$858,373,000'"
      ]
     },
     "execution_count": 28,
     "metadata": {},
     "output_type": "execute_result"
    }
   ],
   "source": [
    "morenumbers_infocontainer[1][1].find_all('td', class_='data')[2].get_text()"
   ]
  },
  {
   "cell_type": "code",
   "execution_count": 29,
   "metadata": {},
   "outputs": [
    {
     "name": "stdout",
     "output_type": "stream",
     "text": [
      "6043\n"
     ]
    }
   ],
   "source": [
    "morenumbers_domestic = []\n",
    "for page in pages:\n",
    "    for c in range(1, len(morenumbers_infocontainer[page])):\n",
    "        morenumbers_domestic.append(morenumbers_infocontainer[page][c].find_all('td', class_='data')[2].get_text())\n",
    "print (len(morenumbers_domestic))"
   ]
  },
  {
   "cell_type": "markdown",
   "metadata": {},
   "source": [
    "Scraping Worldwide Gross"
   ]
  },
  {
   "cell_type": "code",
   "execution_count": 30,
   "metadata": {},
   "outputs": [
    {
     "data": {
      "text/plain": [
       "'\\xa0$2,797,800,564'"
      ]
     },
     "execution_count": 30,
     "metadata": {},
     "output_type": "execute_result"
    }
   ],
   "source": [
    "morenumbers_infocontainer[1][1].find_all('td', class_='data')[3].get_text()"
   ]
  },
  {
   "cell_type": "code",
   "execution_count": 31,
   "metadata": {},
   "outputs": [
    {
     "name": "stdout",
     "output_type": "stream",
     "text": [
      "6043\n"
     ]
    }
   ],
   "source": [
    "morenumbers_worldwide = []\n",
    "for page in pages:\n",
    "    for d in range(1, len(morenumbers_infocontainer[page])):\n",
    "        morenumbers_worldwide.append(morenumbers_infocontainer[page][d].find_all('td', class_='data')[3].get_text())\n",
    "print (len(morenumbers_worldwide))"
   ]
  },
  {
   "cell_type": "markdown",
   "metadata": {},
   "source": [
    "Finding Foreign Gross (NOT FINISHED)"
   ]
  },
  {
   "cell_type": "code",
   "execution_count": 39,
   "metadata": {},
   "outputs": [],
   "source": [
    "def foreign(x, y):\n",
    "    return (x - y)"
   ]
  },
  {
   "cell_type": "code",
   "execution_count": 40,
   "metadata": {},
   "outputs": [
    {
     "ename": "TypeError",
     "evalue": "list indices must be integers or slices, not str",
     "output_type": "error",
     "traceback": [
      "\u001b[1;31m---------------------------------------------------------------------------\u001b[0m",
      "\u001b[1;31mTypeError\u001b[0m                                 Traceback (most recent call last)",
      "\u001b[1;32m<ipython-input-40-e1b04e37d4af>\u001b[0m in \u001b[0;36m<module>\u001b[1;34m\u001b[0m\n\u001b[0;32m      1\u001b[0m \u001b[0mmorenumbers_foreign\u001b[0m \u001b[1;33m=\u001b[0m \u001b[1;33m[\u001b[0m\u001b[1;33m]\u001b[0m\u001b[1;33m\u001b[0m\u001b[1;33m\u001b[0m\u001b[0m\n\u001b[0;32m      2\u001b[0m \u001b[1;32mfor\u001b[0m \u001b[0melement\u001b[0m \u001b[1;32min\u001b[0m \u001b[0mmorenumbers_worldwide\u001b[0m\u001b[1;33m:\u001b[0m\u001b[1;33m\u001b[0m\u001b[1;33m\u001b[0m\u001b[0m\n\u001b[1;32m----> 3\u001b[1;33m     \u001b[0mmorenumbers_foreign\u001b[0m\u001b[1;33m.\u001b[0m\u001b[0mappend\u001b[0m\u001b[1;33m(\u001b[0m\u001b[0mforeign\u001b[0m\u001b[1;33m(\u001b[0m\u001b[0mmorenumbers_worldwide\u001b[0m\u001b[1;33m[\u001b[0m\u001b[0melement\u001b[0m\u001b[1;33m]\u001b[0m\u001b[1;33m,\u001b[0m \u001b[0mmorenumbers_domestic\u001b[0m\u001b[1;33m[\u001b[0m\u001b[0melement\u001b[0m\u001b[1;33m]\u001b[0m\u001b[1;33m)\u001b[0m\u001b[1;33m)\u001b[0m\u001b[1;33m\u001b[0m\u001b[1;33m\u001b[0m\u001b[0m\n\u001b[0m\u001b[0;32m      4\u001b[0m \u001b[0mprint\u001b[0m \u001b[1;33m(\u001b[0m\u001b[0mlen\u001b[0m\u001b[1;33m(\u001b[0m\u001b[0mmorenumbers_foreign\u001b[0m\u001b[1;33m)\u001b[0m\u001b[1;33m)\u001b[0m\u001b[1;33m\u001b[0m\u001b[1;33m\u001b[0m\u001b[0m\n",
      "\u001b[1;31mTypeError\u001b[0m: list indices must be integers or slices, not str"
     ]
    }
   ],
   "source": [
    "morenumbers_foreign = []\n",
    "for element in morenumbers_worldwide:\n",
    "    morenumbers_foreign.append(foreign(morenumbers_worldwide[element], morenumbers_domestic[element]))\n",
    "print (len(morenumbers_foreign))"
   ]
  },
  {
   "cell_type": "markdown",
   "metadata": {},
   "source": [
    "Pandas"
   ]
  },
  {
   "cell_type": "code",
   "execution_count": 41,
   "metadata": {},
   "outputs": [
    {
     "data": {
      "text/html": [
       "<div>\n",
       "<style scoped>\n",
       "    .dataframe tbody tr th:only-of-type {\n",
       "        vertical-align: middle;\n",
       "    }\n",
       "\n",
       "    .dataframe tbody tr th {\n",
       "        vertical-align: top;\n",
       "    }\n",
       "\n",
       "    .dataframe thead th {\n",
       "        text-align: right;\n",
       "    }\n",
       "</style>\n",
       "<table border=\"1\" class=\"dataframe\">\n",
       "  <thead>\n",
       "    <tr style=\"text-align: right;\">\n",
       "      <th></th>\n",
       "      <th>release_date</th>\n",
       "      <th>title</th>\n",
       "      <th>genres</th>\n",
       "      <th>domestic_gross</th>\n",
       "    </tr>\n",
       "  </thead>\n",
       "  <tbody>\n",
       "    <tr>\n",
       "      <th>0</th>\n",
       "      <td>Jun 18, 2010</td>\n",
       "      <td>Toy Story 3</td>\n",
       "      <td>Adventure</td>\n",
       "      <td>$415,004,880</td>\n",
       "    </tr>\n",
       "    <tr>\n",
       "      <th>1</th>\n",
       "      <td>Dec 18, 2009</td>\n",
       "      <td>Avatar</td>\n",
       "      <td>Action</td>\n",
       "      <td>$408,392,727</td>\n",
       "    </tr>\n",
       "    <tr>\n",
       "      <th>2</th>\n",
       "      <td>Mar 5, 2010</td>\n",
       "      <td>Alice in Wonderland</td>\n",
       "      <td>Adventure</td>\n",
       "      <td>$334,191,110</td>\n",
       "    </tr>\n",
       "    <tr>\n",
       "      <th>3</th>\n",
       "      <td>May 7, 2010</td>\n",
       "      <td>Iron Man 2</td>\n",
       "      <td>Action</td>\n",
       "      <td>$312,433,331</td>\n",
       "    </tr>\n",
       "    <tr>\n",
       "      <th>4</th>\n",
       "      <td>Jun 30, 2010</td>\n",
       "      <td>The Twilight Saga: Eclipse</td>\n",
       "      <td>Drama</td>\n",
       "      <td>$300,531,751</td>\n",
       "    </tr>\n",
       "    <tr>\n",
       "      <th>...</th>\n",
       "      <td>...</td>\n",
       "      <td>...</td>\n",
       "      <td>...</td>\n",
       "      <td>...</td>\n",
       "    </tr>\n",
       "    <tr>\n",
       "      <th>7421</th>\n",
       "      <td>Nov 9, 2018</td>\n",
       "      <td>Chef Flynn</td>\n",
       "      <td>Documentary</td>\n",
       "      <td>$721</td>\n",
       "    </tr>\n",
       "    <tr>\n",
       "      <th>7422</th>\n",
       "      <td>Sep 7, 2018</td>\n",
       "      <td>I am Not a Witch</td>\n",
       "      <td>Drama</td>\n",
       "      <td>$550</td>\n",
       "    </tr>\n",
       "    <tr>\n",
       "      <th>7423</th>\n",
       "      <td>Dec 7, 2018</td>\n",
       "      <td>Divide and Conquer: The Sto…</td>\n",
       "      <td>Documentary</td>\n",
       "      <td>$474</td>\n",
       "    </tr>\n",
       "    <tr>\n",
       "      <th>7424</th>\n",
       "      <td>Jul 8, 1968</td>\n",
       "      <td>Senso</td>\n",
       "      <td>Drama</td>\n",
       "      <td>$437</td>\n",
       "    </tr>\n",
       "    <tr>\n",
       "      <th>7425</th>\n",
       "      <td>Dec 13, 2018</td>\n",
       "      <td>Never-Ending Man: Hayao Miy…</td>\n",
       "      <td>Documentary</td>\n",
       "      <td>$376</td>\n",
       "    </tr>\n",
       "  </tbody>\n",
       "</table>\n",
       "<p>7426 rows × 4 columns</p>\n",
       "</div>"
      ],
      "text/plain": [
       "      release_date                         title       genres domestic_gross\n",
       "0     Jun 18, 2010                   Toy Story 3    Adventure   $415,004,880\n",
       "1     Dec 18, 2009                        Avatar       Action   $408,392,727\n",
       "2      Mar 5, 2010           Alice in Wonderland    Adventure   $334,191,110\n",
       "3      May 7, 2010                    Iron Man 2       Action   $312,433,331\n",
       "4     Jun 30, 2010    The Twilight Saga: Eclipse        Drama   $300,531,751\n",
       "...            ...                           ...          ...            ...\n",
       "7421   Nov 9, 2018                    Chef Flynn  Documentary           $721\n",
       "7422   Sep 7, 2018              I am Not a Witch        Drama           $550\n",
       "7423   Dec 7, 2018  Divide and Conquer: The Sto…  Documentary           $474\n",
       "7424   Jul 8, 1968                         Senso        Drama           $437\n",
       "7425  Dec 13, 2018  Never-Ending Man: Hayao Miy…  Documentary           $376\n",
       "\n",
       "[7426 rows x 4 columns]"
      ]
     },
     "execution_count": 41,
     "metadata": {},
     "output_type": "execute_result"
    }
   ],
   "source": [
    "numbers_df = pd.DataFrame([numbers_dates, numbers_movies, numbers_genres, numbers_gross]).transpose()\n",
    "numbers_df.columns = ['release_date', 'title',  'genres', 'domestic_gross']\n",
    "numbers_df"
   ]
  },
  {
   "cell_type": "code",
   "execution_count": 42,
   "metadata": {},
   "outputs": [],
   "source": [
    "#numbers_df.to_excel('numbers_df.xlsx', index=False)"
   ]
  },
  {
   "cell_type": "code",
   "execution_count": 43,
   "metadata": {},
   "outputs": [
    {
     "data": {
      "text/html": [
       "<div>\n",
       "<style scoped>\n",
       "    .dataframe tbody tr th:only-of-type {\n",
       "        vertical-align: middle;\n",
       "    }\n",
       "\n",
       "    .dataframe tbody tr th {\n",
       "        vertical-align: top;\n",
       "    }\n",
       "\n",
       "    .dataframe thead th {\n",
       "        text-align: right;\n",
       "    }\n",
       "</style>\n",
       "<table border=\"1\" class=\"dataframe\">\n",
       "  <thead>\n",
       "    <tr style=\"text-align: right;\">\n",
       "      <th></th>\n",
       "      <th>title</th>\n",
       "      <th>production_budget</th>\n",
       "      <th>domestic_gross</th>\n",
       "      <th>worldwide_gross</th>\n",
       "    </tr>\n",
       "  </thead>\n",
       "  <tbody>\n",
       "    <tr>\n",
       "      <th>0</th>\n",
       "      <td>Avengers: Endgame</td>\n",
       "      <td>$400,000,000</td>\n",
       "      <td>$858,373,000</td>\n",
       "      <td>$2,797,800,564</td>\n",
       "    </tr>\n",
       "    <tr>\n",
       "      <th>1</th>\n",
       "      <td>Pirates of the Caribbean: On Stranger Tides</td>\n",
       "      <td>$379,000,000</td>\n",
       "      <td>$241,063,875</td>\n",
       "      <td>$1,045,663,875</td>\n",
       "    </tr>\n",
       "    <tr>\n",
       "      <th>2</th>\n",
       "      <td>Avengers: Age of Ultron</td>\n",
       "      <td>$365,000,000</td>\n",
       "      <td>$459,005,868</td>\n",
       "      <td>$1,396,099,202</td>\n",
       "    </tr>\n",
       "    <tr>\n",
       "      <th>3</th>\n",
       "      <td>Star Wars Ep. VII: The Force Awakens</td>\n",
       "      <td>$306,000,000</td>\n",
       "      <td>$936,662,225</td>\n",
       "      <td>$2,065,791,405</td>\n",
       "    </tr>\n",
       "    <tr>\n",
       "      <th>4</th>\n",
       "      <td>Avengers: Infinity War</td>\n",
       "      <td>$300,000,000</td>\n",
       "      <td>$678,815,482</td>\n",
       "      <td>$2,048,359,754</td>\n",
       "    </tr>\n",
       "    <tr>\n",
       "      <th>...</th>\n",
       "      <td>...</td>\n",
       "      <td>...</td>\n",
       "      <td>...</td>\n",
       "      <td>...</td>\n",
       "    </tr>\n",
       "    <tr>\n",
       "      <th>6038</th>\n",
       "      <td>Red 11</td>\n",
       "      <td>$7,000</td>\n",
       "      <td>$0</td>\n",
       "      <td>$0</td>\n",
       "    </tr>\n",
       "    <tr>\n",
       "      <th>6039</th>\n",
       "      <td>Following</td>\n",
       "      <td>$6,000</td>\n",
       "      <td>$48,482</td>\n",
       "      <td>$240,495</td>\n",
       "    </tr>\n",
       "    <tr>\n",
       "      <th>6040</th>\n",
       "      <td>Return to the Land of Wonders</td>\n",
       "      <td>$5,000</td>\n",
       "      <td>$1,338</td>\n",
       "      <td>$1,338</td>\n",
       "    </tr>\n",
       "    <tr>\n",
       "      <th>6041</th>\n",
       "      <td>A Plague So Pleasant</td>\n",
       "      <td>$1,400</td>\n",
       "      <td>$0</td>\n",
       "      <td>$0</td>\n",
       "    </tr>\n",
       "    <tr>\n",
       "      <th>6042</th>\n",
       "      <td>My Date With Drew</td>\n",
       "      <td>$1,100</td>\n",
       "      <td>$181,041</td>\n",
       "      <td>$181,041</td>\n",
       "    </tr>\n",
       "  </tbody>\n",
       "</table>\n",
       "<p>6043 rows × 4 columns</p>\n",
       "</div>"
      ],
      "text/plain": [
       "                                            title production_budget  \\\n",
       "0                               Avengers: Endgame      $400,000,000   \n",
       "1     Pirates of the Caribbean: On Stranger Tides      $379,000,000   \n",
       "2                         Avengers: Age of Ultron      $365,000,000   \n",
       "3            Star Wars Ep. VII: The Force Awakens      $306,000,000   \n",
       "4                          Avengers: Infinity War      $300,000,000   \n",
       "...                                           ...               ...   \n",
       "6038                                       Red 11            $7,000   \n",
       "6039                                    Following            $6,000   \n",
       "6040                Return to the Land of Wonders            $5,000   \n",
       "6041                         A Plague So Pleasant            $1,400   \n",
       "6042                            My Date With Drew            $1,100   \n",
       "\n",
       "     domestic_gross  worldwide_gross  \n",
       "0      $858,373,000   $2,797,800,564  \n",
       "1      $241,063,875   $1,045,663,875  \n",
       "2      $459,005,868   $1,396,099,202  \n",
       "3      $936,662,225   $2,065,791,405  \n",
       "4      $678,815,482   $2,048,359,754  \n",
       "...             ...              ...  \n",
       "6038             $0               $0  \n",
       "6039        $48,482         $240,495  \n",
       "6040         $1,338           $1,338  \n",
       "6041             $0               $0  \n",
       "6042       $181,041         $181,041  \n",
       "\n",
       "[6043 rows x 4 columns]"
      ]
     },
     "execution_count": 43,
     "metadata": {},
     "output_type": "execute_result"
    }
   ],
   "source": [
    "morenumbers_df = pd.DataFrame([morenumbers_movies, morenumbers_production, morenumbers_domestic, morenumbers_worldwide]).transpose()\n",
    "morenumbers_df.columns = ['title', 'production_budget', 'domestic_gross', 'worldwide_gross']\n",
    "morenumbers_df"
   ]
  },
  {
   "cell_type": "code",
   "execution_count": 44,
   "metadata": {},
   "outputs": [],
   "source": [
    "#morenumbers_df.to_excel('numbers_df.xlsx', index=False)"
   ]
  },
  {
   "cell_type": "markdown",
   "metadata": {},
   "source": [
    "Merging Data Frames NOT FINISHED"
   ]
  },
  {
   "cell_type": "code",
   "execution_count": null,
   "metadata": {},
   "outputs": [],
   "source": []
  },
  {
   "cell_type": "code",
   "execution_count": null,
   "metadata": {},
   "outputs": [],
   "source": []
  },
  {
   "cell_type": "code",
   "execution_count": null,
   "metadata": {},
   "outputs": [],
   "source": [
    "#mergednumbers_df.to_csv('numbers_df.csv')"
   ]
  },
  {
   "cell_type": "markdown",
   "metadata": {},
   "source": [
    "Extra info to consider:\n",
    "https://www.the-numbers.com/market/"
   ]
  }
 ],
 "metadata": {
  "kernelspec": {
   "display_name": "learn-env",
   "language": "python",
   "name": "learn-env"
  },
  "language_info": {
   "codemirror_mode": {
    "name": "ipython",
    "version": 3
   },
   "file_extension": ".py",
   "mimetype": "text/x-python",
   "name": "python",
   "nbconvert_exporter": "python",
   "pygments_lexer": "ipython3",
   "version": "3.7.6"
  }
 },
 "nbformat": 4,
 "nbformat_minor": 2
}
