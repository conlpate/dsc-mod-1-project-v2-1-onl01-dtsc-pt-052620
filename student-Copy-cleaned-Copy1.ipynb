{
 "cells": [
  {
   "cell_type": "markdown",
   "metadata": {},
   "source": [
    "## Final Project Submission\n",
    "\n",
    "Please fill out:\n",
    "* Student name: \n",
    "* Student pace: self paced / part time / full time\n",
    "* Scheduled project review date/time: \n",
    "* Instructor name: \n",
    "* Blog post URL:\n"
   ]
  },
  {
   "cell_type": "code",
   "execution_count": 1,
   "metadata": {},
   "outputs": [],
   "source": [
    "# Your code here - remember to use markdown cells for comments as well!\n",
    "import pandas as pd\n",
    "import urllib.request, urllib.parse, urllib.error\n",
    "import requests\n",
    "import json"
   ]
  },
  {
   "cell_type": "code",
   "execution_count": 2,
   "metadata": {},
   "outputs": [],
   "source": [
    "API_key = '294f4c0e6d0861470f47e84017c8e2c1'"
   ]
  },
  {
   "cell_type": "code",
   "execution_count": 3,
   "metadata": {},
   "outputs": [],
   "source": [
    "#The first API request is to obtain a list of movies by the released_date\n",
    "\n",
    "search_year = 2018\n",
    "\n",
    "#This request pulls the first page of the search request\n",
    "resp = requests.get('https://api.themoviedb.org/3/discover/movie?api_key=' + str(API_key) +'&language=en-US&sort_by=popularity.desc&primary_release_year='+ str(search_year))\n",
    "data_p1 = dict(resp.json())\n",
    "\n",
    "#We can also use this request to see how many pages there are in the search, \n",
    "#we will need to add all the pages of the search to the dataframe\n",
    "search_pages = data_p1['total_pages']\n",
    "data = pd.DataFrame.from_dict(data_p1['results'])"
   ]
  },
  {
   "cell_type": "code",
   "execution_count": 4,
   "metadata": {},
   "outputs": [],
   "source": [
    "## Takes ~30 seconds ##\n",
    "\n",
    "#This step is slow, there is a lot of data being requested.\n",
    "url ='https://api.themoviedb.org/3/discover/movie?api_key=' + str(API_key) +'&language=en-US&sort_by=popularity.desc&primary_release_year='+ str(search_year)+'&page='\n",
    "for page in range(2,search_pages+1):\n",
    "    resp = requests.get(url + str(page))\n",
    "    temp = dict(resp.json())\n",
    "    df_by_page = pd.DataFrame.from_dict(temp['results'])\n",
    "    data = pd.concat([data,df_by_page], ignore_index=True)"
   ]
  },
  {
   "cell_type": "code",
   "execution_count": 5,
   "metadata": {},
   "outputs": [],
   "source": [
    "# Because there are 10,000 movies in 2017.  (I think that's the max value because all years max out at 10,000 it seems)\n",
    "# I filtered by popularity so we can use the top <integer value> we want to select\n",
    "\n",
    "data = data.sort_values(by='popularity', ascending=False)\n",
    "data = data.set_index('id')\n",
    "data = data.drop(columns = 'genre_ids')\n",
    "data = data.drop_duplicates()"
   ]
  },
  {
   "cell_type": "code",
   "execution_count": 127,
   "metadata": {},
   "outputs": [
    {
     "data": {
      "text/plain": [
       "10000"
      ]
     },
     "execution_count": 127,
     "metadata": {},
     "output_type": "execute_result"
    }
   ],
   "source": [
    "# Create a list of all the movies from the search above. Which is in decending popularity order.\n",
    "movies_index = data.index.values.tolist()\n",
    "len(movies_index)"
   ]
  },
  {
   "cell_type": "code",
   "execution_count": 7,
   "metadata": {},
   "outputs": [
    {
     "data": {
      "text/plain": [
       "{'adult': False,\n",
       " 'backdrop_path': '/vc8bCGjdVp0UbMNLzHnHSLRbBWQ.jpg',\n",
       " 'belongs_to_collection': {'id': 531241,\n",
       "  'name': 'Spider-Man (Avengers) Collection',\n",
       "  'poster_path': '/nogV4th2P5QWYvQIMiWHj4CFLU9.jpg',\n",
       "  'backdrop_path': '/zh72eVJTD5EssStCsNHqELuh6uD.jpg'},\n",
       " 'budget': 175000000,\n",
       " 'genres': [{'id': 28, 'name': 'Action'},\n",
       "  {'id': 12, 'name': 'Adventure'},\n",
       "  {'id': 878, 'name': 'Science Fiction'},\n",
       "  {'id': 18, 'name': 'Drama'}],\n",
       " 'homepage': 'http://www.spidermanhomecoming.com',\n",
       " 'id': 315635,\n",
       " 'imdb_id': 'tt2250912',\n",
       " 'original_language': 'en',\n",
       " 'original_title': 'Spider-Man: Homecoming',\n",
       " 'overview': 'Following the events of Captain America: Civil War, Peter Parker, with the help of his mentor Tony Stark, tries to balance his life as an ordinary high school student in Queens, New York City, with fighting crime as his superhero alter ego Spider-Man as a new threat, the Vulture, emerges.',\n",
       " 'popularity': 55.385,\n",
       " 'poster_path': '/c24sv2weTHPsmDa7jEMN0m2P3RT.jpg',\n",
       " 'production_companies': [{'id': 420,\n",
       "   'logo_path': '/hUzeosd33nzE5MCNsZxCGEKTXaQ.png',\n",
       "   'name': 'Marvel Studios',\n",
       "   'origin_country': 'US'},\n",
       "  {'id': 5,\n",
       "   'logo_path': '/71BqEFAF4V3qjjMPCpLuyJFB9A.png',\n",
       "   'name': 'Columbia Pictures',\n",
       "   'origin_country': 'US'},\n",
       "  {'id': 84041,\n",
       "   'logo_path': '/XmHMPGzdI5c4WGX1YlxU4s2v7T.png',\n",
       "   'name': 'Pascal Pictures',\n",
       "   'origin_country': 'US'},\n",
       "  {'id': 34034,\n",
       "   'logo_path': None,\n",
       "   'name': 'LStar Capital',\n",
       "   'origin_country': 'US'},\n",
       "  {'id': 34,\n",
       "   'logo_path': '/GagSvqWlyPdkFHMfQ3pNq6ix9P.png',\n",
       "   'name': 'Sony Pictures',\n",
       "   'origin_country': 'US'}],\n",
       " 'production_countries': [{'iso_3166_1': 'US',\n",
       "   'name': 'United States of America'}],\n",
       " 'release_date': '2017-07-05',\n",
       " 'revenue': 880166924,\n",
       " 'runtime': 133,\n",
       " 'spoken_languages': [{'iso_639_1': 'en', 'name': 'English'}],\n",
       " 'status': 'Released',\n",
       " 'tagline': \"Homework can wait. The city can't.\",\n",
       " 'title': 'Spider-Man: Homecoming',\n",
       " 'video': False,\n",
       " 'vote_average': 7.4,\n",
       " 'vote_count': 14501}"
      ]
     },
     "execution_count": 7,
     "metadata": {},
     "output_type": "execute_result"
    }
   ],
   "source": [
    "#Here is an example of the API request data.  \n",
    "#If we want to change our dataframes, to target more data, it would be easy to add in the function in an upcoming step\n",
    "resp = requests.get('https://api.themoviedb.org/3/movie/' + str(movies_index[0]) + '?api_key=' + str(API_key))\n",
    "dict(resp.json())"
   ]
  },
  {
   "cell_type": "code",
   "execution_count": 94,
   "metadata": {},
   "outputs": [],
   "source": [
    "#Defines a function to then arrange the data into a dictionary for a given movie.  \n",
    "\n",
    "def API_request(movie):\n",
    "    resp = requests.get('https://api.themoviedb.org/3/movie/' + str(movie) + '?api_key=' + str(API_key))\n",
    "    if resp.status_code == requests.codes.ok:\n",
    "        temp = dict(resp.json())\n",
    "        movie = {}\n",
    "        movie['imdb_id'] = temp['imdb_id']\n",
    "        movie['release_date'] = pd.to_datetime(temp['release_date'])\n",
    "        movie['genres'] = [genre['name'] for genre in temp['genres']]\n",
    "        movie['title'] = temp['title']\n",
    "        movie['budget'] = int(temp['budget'])\n",
    "        movie['revenue'] = int(temp['revenue'])\n",
    "        movie['ROI'] =  int(temp['revenue']) - int(temp['budget'])\n",
    "        movie['runtime_mins'] = temp['runtime']\n",
    "        return movie"
   ]
  },
  {
   "cell_type": "code",
   "execution_count": 9,
   "metadata": {},
   "outputs": [
    {
     "name": "stdout",
     "output_type": "stream",
     "text": [
      "{'imdb_id': 'tt2250912', 'release_date': Timestamp('2017-07-05 00:00:00'), 'genres': ['Action', 'Adventure', 'Science Fiction', 'Drama'], 'title': 'Spider-Man: Homecoming', 'budget': 175000000, 'revenue': 880166924, 'ROI': 705166924, 'runtime_mins': 133}\n"
     ]
    }
   ],
   "source": [
    "#See an example of what the API_request provides per movie\n",
    "print(API_request(movies_index[0]))"
   ]
  },
  {
   "cell_type": "code",
   "execution_count": 153,
   "metadata": {},
   "outputs": [],
   "source": [
    "## Execution time varies on how large our subset is ##\n",
    "\n",
    "#Define how many of the top most popular movies we would like to use in our dataset:\n",
    "subset_lenght = 100\n",
    "\n",
    "#Shrinks the movies_index which is arranged from most popular to least popular, \n",
    "#and calls the first \"subset_lenght\" amount.\n",
    "imdb_ID_subset = movies_index[:subset_lenght]\n",
    "\n",
    "#Make requests to the API for the movie data\n",
    "imbd_API_data = list(map(lambda x: API_request(x),imdb_ID_subset))"
   ]
  },
  {
   "cell_type": "code",
   "execution_count": 154,
   "metadata": {},
   "outputs": [
    {
     "data": {
      "text/html": [
       "<div>\n",
       "<style scoped>\n",
       "    .dataframe tbody tr th:only-of-type {\n",
       "        vertical-align: middle;\n",
       "    }\n",
       "\n",
       "    .dataframe tbody tr th {\n",
       "        vertical-align: top;\n",
       "    }\n",
       "\n",
       "    .dataframe thead th {\n",
       "        text-align: right;\n",
       "    }\n",
       "</style>\n",
       "<table border=\"1\" class=\"dataframe\">\n",
       "  <thead>\n",
       "    <tr style=\"text-align: right;\">\n",
       "      <th></th>\n",
       "      <th>imdb_id</th>\n",
       "      <th>release_date</th>\n",
       "      <th>genres</th>\n",
       "      <th>title</th>\n",
       "      <th>budget</th>\n",
       "      <th>revenue</th>\n",
       "      <th>ROI</th>\n",
       "      <th>runtime_mins</th>\n",
       "    </tr>\n",
       "  </thead>\n",
       "  <tbody>\n",
       "    <tr>\n",
       "      <th>0</th>\n",
       "      <td>tt2250912</td>\n",
       "      <td>2017-07-05</td>\n",
       "      <td>[Action, Adventure, Science Fiction, Drama]</td>\n",
       "      <td>Spider-Man: Homecoming</td>\n",
       "      <td>175000000</td>\n",
       "      <td>880166924</td>\n",
       "      <td>705166924</td>\n",
       "      <td>133</td>\n",
       "    </tr>\n",
       "    <tr>\n",
       "      <th>1</th>\n",
       "      <td>tt0974015</td>\n",
       "      <td>2017-11-15</td>\n",
       "      <td>[Action, Adventure, Fantasy, Science Fiction]</td>\n",
       "      <td>Justice League</td>\n",
       "      <td>300000000</td>\n",
       "      <td>657924295</td>\n",
       "      <td>357924295</td>\n",
       "      <td>120</td>\n",
       "    </tr>\n",
       "    <tr>\n",
       "      <th>2</th>\n",
       "      <td>tt1856101</td>\n",
       "      <td>2017-10-04</td>\n",
       "      <td>[Science Fiction, Drama]</td>\n",
       "      <td>Blade Runner 2049</td>\n",
       "      <td>150000000</td>\n",
       "      <td>259239658</td>\n",
       "      <td>109239658</td>\n",
       "      <td>163</td>\n",
       "    </tr>\n",
       "    <tr>\n",
       "      <th>3</th>\n",
       "      <td>tt3501632</td>\n",
       "      <td>2017-10-25</td>\n",
       "      <td>[Action, Adventure, Comedy, Fantasy]</td>\n",
       "      <td>Thor: Ragnarok</td>\n",
       "      <td>180000000</td>\n",
       "      <td>853977126</td>\n",
       "      <td>673977126</td>\n",
       "      <td>131</td>\n",
       "    </tr>\n",
       "    <tr>\n",
       "      <th>4</th>\n",
       "      <td>tt1485796</td>\n",
       "      <td>2017-12-20</td>\n",
       "      <td>[Drama]</td>\n",
       "      <td>The Greatest Showman</td>\n",
       "      <td>84000000</td>\n",
       "      <td>432844677</td>\n",
       "      <td>348844677</td>\n",
       "      <td>105</td>\n",
       "    </tr>\n",
       "  </tbody>\n",
       "</table>\n",
       "</div>"
      ],
      "text/plain": [
       "     imdb_id release_date                                         genres  \\\n",
       "0  tt2250912   2017-07-05    [Action, Adventure, Science Fiction, Drama]   \n",
       "1  tt0974015   2017-11-15  [Action, Adventure, Fantasy, Science Fiction]   \n",
       "2  tt1856101   2017-10-04                       [Science Fiction, Drama]   \n",
       "3  tt3501632   2017-10-25           [Action, Adventure, Comedy, Fantasy]   \n",
       "4  tt1485796   2017-12-20                                        [Drama]   \n",
       "\n",
       "                    title     budget    revenue        ROI  runtime_mins  \n",
       "0  Spider-Man: Homecoming  175000000  880166924  705166924           133  \n",
       "1          Justice League  300000000  657924295  357924295           120  \n",
       "2       Blade Runner 2049  150000000  259239658  109239658           163  \n",
       "3          Thor: Ragnarok  180000000  853977126  673977126           131  \n",
       "4    The Greatest Showman   84000000  432844677  348844677           105  "
      ]
     },
     "execution_count": 154,
     "metadata": {},
     "output_type": "execute_result"
    }
   ],
   "source": [
    "#Create a dataframe of the data obtained\n",
    "df = pd.DataFrame.from_dict(imbd_API_data)\n",
    "df.head()"
   ]
  },
  {
   "cell_type": "code",
   "execution_count": 155,
   "metadata": {},
   "outputs": [
    {
     "name": "stdout",
     "output_type": "stream",
     "text": [
      "<class 'pandas.core.frame.DataFrame'>\n",
      "RangeIndex: 100 entries, 0 to 99\n",
      "Data columns (total 8 columns):\n",
      " #   Column        Non-Null Count  Dtype         \n",
      "---  ------        --------------  -----         \n",
      " 0   imdb_id       100 non-null    object        \n",
      " 1   release_date  100 non-null    datetime64[ns]\n",
      " 2   genres        100 non-null    object        \n",
      " 3   title         100 non-null    object        \n",
      " 4   budget        100 non-null    int64         \n",
      " 5   revenue       100 non-null    int64         \n",
      " 6   ROI           100 non-null    int64         \n",
      " 7   runtime_mins  100 non-null    int64         \n",
      "dtypes: datetime64[ns](1), int64(4), object(3)\n",
      "memory usage: 6.4+ KB\n"
     ]
    }
   ],
   "source": [
    "df.info()"
   ]
  },
  {
   "cell_type": "code",
   "execution_count": 156,
   "metadata": {},
   "outputs": [
    {
     "data": {
      "text/html": [
       "<div>\n",
       "<style scoped>\n",
       "    .dataframe tbody tr th:only-of-type {\n",
       "        vertical-align: middle;\n",
       "    }\n",
       "\n",
       "    .dataframe tbody tr th {\n",
       "        vertical-align: top;\n",
       "    }\n",
       "\n",
       "    .dataframe thead th {\n",
       "        text-align: right;\n",
       "    }\n",
       "</style>\n",
       "<table border=\"1\" class=\"dataframe\">\n",
       "  <thead>\n",
       "    <tr style=\"text-align: right;\">\n",
       "      <th></th>\n",
       "      <th>release_date</th>\n",
       "      <th>title</th>\n",
       "      <th>budget</th>\n",
       "      <th>revenue</th>\n",
       "      <th>ROI</th>\n",
       "      <th>runtime_mins</th>\n",
       "      <th>genre</th>\n",
       "    </tr>\n",
       "    <tr>\n",
       "      <th>imdb_id</th>\n",
       "      <th></th>\n",
       "      <th></th>\n",
       "      <th></th>\n",
       "      <th></th>\n",
       "      <th></th>\n",
       "      <th></th>\n",
       "      <th></th>\n",
       "    </tr>\n",
       "  </thead>\n",
       "  <tbody>\n",
       "    <tr>\n",
       "      <th>tt2250912</th>\n",
       "      <td>2017-07-05</td>\n",
       "      <td>Spider-Man: Homecoming</td>\n",
       "      <td>175000000</td>\n",
       "      <td>880166924</td>\n",
       "      <td>705166924</td>\n",
       "      <td>133</td>\n",
       "      <td>Action</td>\n",
       "    </tr>\n",
       "    <tr>\n",
       "      <th>tt2250912</th>\n",
       "      <td>2017-07-05</td>\n",
       "      <td>Spider-Man: Homecoming</td>\n",
       "      <td>175000000</td>\n",
       "      <td>880166924</td>\n",
       "      <td>705166924</td>\n",
       "      <td>133</td>\n",
       "      <td>Adventure</td>\n",
       "    </tr>\n",
       "    <tr>\n",
       "      <th>tt2250912</th>\n",
       "      <td>2017-07-05</td>\n",
       "      <td>Spider-Man: Homecoming</td>\n",
       "      <td>175000000</td>\n",
       "      <td>880166924</td>\n",
       "      <td>705166924</td>\n",
       "      <td>133</td>\n",
       "      <td>Science Fiction</td>\n",
       "    </tr>\n",
       "    <tr>\n",
       "      <th>tt2250912</th>\n",
       "      <td>2017-07-05</td>\n",
       "      <td>Spider-Man: Homecoming</td>\n",
       "      <td>175000000</td>\n",
       "      <td>880166924</td>\n",
       "      <td>705166924</td>\n",
       "      <td>133</td>\n",
       "      <td>Drama</td>\n",
       "    </tr>\n",
       "    <tr>\n",
       "      <th>tt0974015</th>\n",
       "      <td>2017-11-15</td>\n",
       "      <td>Justice League</td>\n",
       "      <td>300000000</td>\n",
       "      <td>657924295</td>\n",
       "      <td>357924295</td>\n",
       "      <td>120</td>\n",
       "      <td>Action</td>\n",
       "    </tr>\n",
       "  </tbody>\n",
       "</table>\n",
       "</div>"
      ],
      "text/plain": [
       "          release_date                   title     budget    revenue  \\\n",
       "imdb_id                                                                \n",
       "tt2250912   2017-07-05  Spider-Man: Homecoming  175000000  880166924   \n",
       "tt2250912   2017-07-05  Spider-Man: Homecoming  175000000  880166924   \n",
       "tt2250912   2017-07-05  Spider-Man: Homecoming  175000000  880166924   \n",
       "tt2250912   2017-07-05  Spider-Man: Homecoming  175000000  880166924   \n",
       "tt0974015   2017-11-15          Justice League  300000000  657924295   \n",
       "\n",
       "                 ROI  runtime_mins            genre  \n",
       "imdb_id                                              \n",
       "tt2250912  705166924           133           Action  \n",
       "tt2250912  705166924           133        Adventure  \n",
       "tt2250912  705166924           133  Science Fiction  \n",
       "tt2250912  705166924           133            Drama  \n",
       "tt0974015  357924295           120           Action  "
      ]
     },
     "execution_count": 156,
     "metadata": {},
     "output_type": "execute_result"
    }
   ],
   "source": [
    "#Split the genres column into individual rows and set the index to \"imbd_id\"\n",
    "s = df.apply(lambda x: pd.Series(x['genres']),axis=1).stack().reset_index(level=1, drop=True)\n",
    "s.name = 'genre'\n",
    "cleaned_df = df.drop('genres',axis=1).join(s).set_index('imdb_id')\n",
    "cleaned_df.head()"
   ]
  },
  {
   "cell_type": "code",
   "execution_count": 157,
   "metadata": {},
   "outputs": [
    {
     "name": "stdout",
     "output_type": "stream",
     "text": [
      "<class 'pandas.core.frame.DataFrame'>\n",
      "Index: 295 entries, tt2250912 to tt3829920\n",
      "Data columns (total 7 columns):\n",
      " #   Column        Non-Null Count  Dtype         \n",
      "---  ------        --------------  -----         \n",
      " 0   release_date  295 non-null    datetime64[ns]\n",
      " 1   title         295 non-null    object        \n",
      " 2   budget        295 non-null    int64         \n",
      " 3   revenue       295 non-null    int64         \n",
      " 4   ROI           295 non-null    int64         \n",
      " 5   runtime_mins  295 non-null    int64         \n",
      " 6   genre         295 non-null    object        \n",
      "dtypes: datetime64[ns](1), int64(4), object(2)\n",
      "memory usage: 18.4+ KB\n"
     ]
    }
   ],
   "source": [
    "cleaned_df.info()"
   ]
  }
 ],
 "metadata": {
  "kernelspec": {
   "display_name": "learn-env",
   "language": "python",
   "name": "learn-env"
  },
  "language_info": {
   "codemirror_mode": {
    "name": "ipython",
    "version": 3
   },
   "file_extension": ".py",
   "mimetype": "text/x-python",
   "name": "python",
   "nbconvert_exporter": "python",
   "pygments_lexer": "ipython3",
   "version": "3.7.6"
  }
 },
 "nbformat": 4,
 "nbformat_minor": 2
}
